{
 "cells": [
  {
   "cell_type": "markdown",
   "id": "17b01200",
   "metadata": {
    "_cell_guid": "a99dc824-491a-458e-aa46-08486013c463",
    "_uuid": "f832a6df-d64e-4927-8303-8a0ecf9dd220",
    "id": "URP0Y510HN26",
    "papermill": {
     "duration": 0.020114,
     "end_time": "2024-05-16T12:37:19.638173",
     "exception": false,
     "start_time": "2024-05-16T12:37:19.618059",
     "status": "completed"
    },
    "tags": []
   },
   "source": [
    "We import the standard Keras library"
   ]
  },
  {
   "cell_type": "code",
   "execution_count": 1,
   "id": "b57cbfc2",
   "metadata": {
    "_cell_guid": "fc2b88c0-220f-4a2f-9a6c-ceb28b10b790",
    "_uuid": "c70b60dd-41ac-42b4-a5b6-2a28b892bc9e",
    "collapsed": false,
    "execution": {
     "iopub.execute_input": "2024-05-16T12:37:19.679009Z",
     "iopub.status.busy": "2024-05-16T12:37:19.678694Z",
     "iopub.status.idle": "2024-05-16T12:37:48.858318Z",
     "shell.execute_reply": "2024-05-16T12:37:48.857289Z"
    },
    "jupyter": {
     "outputs_hidden": false
    },
    "papermill": {
     "duration": 29.202888,
     "end_time": "2024-05-16T12:37:48.860578",
     "exception": false,
     "start_time": "2024-05-16T12:37:19.657690",
     "status": "completed"
    },
    "tags": []
   },
   "outputs": [],
   "source": [
    "%%capture\n",
    "!pip install keras\n",
    "!pip install tensorflow"
   ]
  },
  {
   "cell_type": "code",
   "execution_count": null,
   "id": "d6153dab",
   "metadata": {
    "_cell_guid": "89dd02d7-40a8-4e16-bbd5-dcf0de447803",
    "_uuid": "c16f63ec-8702-4279-acc7-8116b553da7d",
    "collapsed": false,
    "execution": {
     "iopub.execute_input": "2024-05-16T12:37:48.901895Z",
     "iopub.status.busy": "2024-05-16T12:37:48.901579Z",
     "iopub.status.idle": "2024-05-16T12:38:01.268532Z",
     "shell.execute_reply": "2024-05-16T12:38:01.267462Z"
    },
    "id": "u87RB0esHN27",
    "jupyter": {
     "outputs_hidden": false
    },
    "papermill": {
     "duration": 12.390511,
     "end_time": "2024-05-16T12:38:01.271171",
     "exception": false,
     "start_time": "2024-05-16T12:37:48.880660",
     "status": "completed"
    },
    "tags": []
   },
   "outputs": [],
   "source": [
    "%%capture\n",
    "import sys, os, re, csv, codecs, numpy as np\n",
    "import matplotlib.pyplot as plt\n",
    "%matplotlib inline\n",
    "from keras.preprocessing.text import Tokenizer\n",
    "from keras.preprocessing.sequence import pad_sequences\n",
    "from keras.layers import Dense, Input, LSTM, Embedding, Dropout, Activation\n",
    "from keras.layers import Bidirectional, GlobalMaxPool1D\n",
    "from keras.models import Model\n",
    "from keras import initializers, regularizers, constraints, optimizers, layers"
   ]
  },
  {
   "cell_type": "code",
   "execution_count": null,
   "id": "5b0a6b64",
   "metadata": {
    "_cell_guid": "33ad43e9-122f-4a7e-9bd4-75ebe8b57291",
    "_uuid": "7ab34694-a45f-44f2-bfd9-1f1c787df7d4",
    "collapsed": false,
    "execution": {
     "iopub.execute_input": "2024-05-16T12:38:01.314347Z",
     "iopub.status.busy": "2024-05-16T12:38:01.313740Z",
     "iopub.status.idle": "2024-05-16T12:38:01.510392Z",
     "shell.execute_reply": "2024-05-16T12:38:01.509388Z"
    },
    "jupyter": {
     "outputs_hidden": false
    },
    "papermill": {
     "duration": 0.220481,
     "end_time": "2024-05-16T12:38:01.512447",
     "exception": false,
     "start_time": "2024-05-16T12:38:01.291966",
     "status": "completed"
    },
    "tags": []
   },
   "outputs": [],
   "source": [
    "import pandas as pd\n",
    "\n",
    "data= pd.read_csv('/kaggle/input/newclass-whystop-reinj/why_stop_annotated.csv')\n",
    "\n",
    "\n",
    "# fill the empty rows\n",
    "\n",
    "data['lemmatize_text'] = data['lemmatize_text'].fillna('unknown')\n",
    "data.columns"
   ]
  },
  {
   "cell_type": "code",
   "execution_count": 4,
   "id": "92475c2a",
   "metadata": {
    "_cell_guid": "7eae2e81-7f29-4c19-a96e-80e011504657",
    "_uuid": "d396a362-7cd3-4a5a-a505-53080d73be21",
    "collapsed": false,
    "execution": {
     "iopub.execute_input": "2024-05-16T12:38:01.554083Z",
     "iopub.status.busy": "2024-05-16T12:38:01.553791Z",
     "iopub.status.idle": "2024-05-16T12:38:04.983577Z",
     "shell.execute_reply": "2024-05-16T12:38:04.982750Z"
    },
    "jupyter": {
     "outputs_hidden": false
    },
    "papermill": {
     "duration": 3.453177,
     "end_time": "2024-05-16T12:38:04.985915",
     "exception": false,
     "start_time": "2024-05-16T12:38:01.532738",
     "status": "completed"
    },
    "tags": []
   },
   "outputs": [],
   "source": [
    "import pandas as pd\n",
    "\n",
    "def simplify_pi_related(data):\n",
    "    # Define the columns to check for other causes\n",
    "    columns_to_check = ['trial_no_longer_needed', 'inadequate_study_design_or_study_redesign',\n",
    "       'efficacy', 'logistics', 'business_or_sponsor_reason',\n",
    "       'negligence_or_recommandation_of_legalities', 'organizational_issues',\n",
    "       'safety_ethics_aes','others', 'enrollment_related',\n",
    "       'pi_related', 'slow_accrual', 'funding_related', 'added_by_error',\n",
    "       'study_competition', 'covid-19_and_similar_epidemic_related',\n",
    "       'completed_early_or_truncated_completion']\n",
    "\n",
    "    # Iterate over each row in the DataFrame\n",
    "    for index, row in data.iterrows():\n",
    "        # Check if 'pi related' is 1 and more than 1 other causes are also 1\n",
    "        if row['pi_related'] == 1 and sum(row[column] == 1 for column in columns_to_check if column != 'pi related') > 1:\n",
    "            # Update 'pi related' to 0\n",
    "            data.at[index, 'pi_related'] = 0\n",
    "            \n",
    "    return data\n",
    "\n",
    "def simplify_enrol_related(data):\n",
    "    # Define the columns to check for other causes\n",
    "    columns_to_check = ['trial_no_longer_needed', 'inadequate_study_design_or_study_redesign',\n",
    "       'efficacy', 'logistics', 'business_or_sponsor_reason',\n",
    "       'negligence_or_recommandation_of_legalities', 'organizational_issues',\n",
    "       'safety_ethics_aes', 'others', 'enrollment_related',\n",
    "       'pi_related', 'slow_accrual', 'funding_related', 'added_by_error',\n",
    "       'study_competition', 'covid-19_and_similar_epidemic_related',\n",
    "       'completed_early_or_truncated_completion']\n",
    "\n",
    "    # Iterate over each row in the DataFrame\n",
    "    for index, row in data.iterrows():\n",
    "        # Check if 'pi related' is 1 and more than 1 other causes are also 1\n",
    "        if row['enrollment_related'] == 1 and sum(row[column] == 1 for column in columns_to_check if column != 'enrollment related') > 2:\n",
    "            # Update 'pi related' to 0\n",
    "            data.at[index, 'enrollment_related'] = 0\n",
    "            \n",
    "    return data\n",
    "\n",
    "\n",
    "data = simplify_pi_related(data)\n",
    "data = simplify_enrol_related(data)"
   ]
  },
  {
   "cell_type": "code",
   "execution_count": 5,
   "id": "50c35a78",
   "metadata": {
    "_cell_guid": "6ccb418a-5d28-48da-b819-52d7230414c3",
    "_uuid": "255619b9-8ad7-47d6-9f89-a8ea8a9434e7",
    "collapsed": false,
    "execution": {
     "iopub.execute_input": "2024-05-16T12:38:05.027370Z",
     "iopub.status.busy": "2024-05-16T12:38:05.026611Z",
     "iopub.status.idle": "2024-05-16T12:38:05.569343Z",
     "shell.execute_reply": "2024-05-16T12:38:05.568303Z"
    },
    "jupyter": {
     "outputs_hidden": false
    },
    "papermill": {
     "duration": 0.566298,
     "end_time": "2024-05-16T12:38:05.572197",
     "exception": false,
     "start_time": "2024-05-16T12:38:05.005899",
     "status": "completed"
    },
    "tags": []
   },
   "outputs": [
    {
     "data": {
      "image/png": "[encoded data removed]",
      "text/plain": [
       "<Figure size 1000x600 with 1 Axes>"
      ]
     },
     "metadata": {},
     "output_type": "display_data"
    }
   ],
   "source": [
    "import pandas as pd\n",
    "import matplotlib.pyplot as plt\n",
    "\n",
    "def plot_sum_values(data):\n",
    "    # Select the columns to plot\n",
    "    columns_to_plot = ['trial_no_longer_needed', 'inadequate_study_design_or_study_redesign',\n",
    "       'efficacy', 'logistics', 'business_or_sponsor_reason',\n",
    "       'negligence_or_recommandation_of_legalities', 'organizational_issues',\n",
    "       'safety_ethics_aes', 'others', 'enrollment_related',\n",
    "       'pi_related', 'slow_accrual', 'funding_related', 'added_by_error',\n",
    "       'study_competition', 'covid-19_and_similar_epidemic_related',\n",
    "       'completed_early_or_truncated_completion']\n",
    "    \n",
    "    # Calculate the sum of each column\n",
    "    column_sums = data[columns_to_plot].sum()\n",
    "    \n",
    "    # Plot the sum values\n",
    "    plt.figure(figsize=(10, 6))\n",
    "    column_sums.plot(kind='bar', color='skyblue')\n",
    "    plt.title('Total Sum Values of Each Column')\n",
    "    plt.xlabel('Columns')\n",
    "    plt.ylabel('Sum Values')\n",
    "    plt.xticks(rotation=90)\n",
    "    plt.grid(axis='y', linestyle='--', alpha=0.7)\n",
    "    plt.tight_layout()\n",
    "    plt.show()\n",
    "\n",
    "# Example usage:\n",
    "# Assuming \"data\" is your DataFrame\n",
    "plot_sum_values(data)"
   ]
  },
  {
   "cell_type": "code",
   "execution_count": 6,
   "id": "ab7395fb",
   "metadata": {
    "_cell_guid": "280b3b4b-abd3-4f9d-aeba-fe44242892d1",
    "_uuid": "672d61ed-5085-4352-bded-160c5765bb31",
    "collapsed": false,
    "execution": {
     "iopub.execute_input": "2024-05-16T12:38:05.621947Z",
     "iopub.status.busy": "2024-05-16T12:38:05.621608Z",
     "iopub.status.idle": "2024-05-16T12:38:05.653817Z",
     "shell.execute_reply": "2024-05-16T12:38:05.652911Z"
    },
    "jupyter": {
     "outputs_hidden": false
    },
    "papermill": {
     "duration": 0.059467,
     "end_time": "2024-05-16T12:38:05.655954",
     "exception": false,
     "start_time": "2024-05-16T12:38:05.596487",
     "status": "completed"
    },
    "tags": []
   },
   "outputs": [
    {
     "data": {
      "text/html": [
       "<div>\n",
       "<style scoped>\n",
       "    .dataframe tbody tr th:only-of-type {\n",
       "        vertical-align: middle;\n",
       "    }\n",
       "\n",
       "    .dataframe tbody tr th {\n",
       "        vertical-align: top;\n",
       "    }\n",
       "\n",
       "    .dataframe thead th {\n",
       "        text-align: right;\n",
       "    }\n",
       "</style>\n",
       "<table border=\"1\" class=\"dataframe\">\n",
       "  <thead>\n",
       "    <tr style=\"text-align: right;\">\n",
       "      <th></th>\n",
       "      <th>overallstatus</th>\n",
       "      <th>study_type</th>\n",
       "      <th>lemmatize_text</th>\n",
       "      <th>nct_id</th>\n",
       "      <th>raw_text</th>\n",
       "      <th>trial_no_longer_needed</th>\n",
       "      <th>inadequate_study_design_or_study_redesign</th>\n",
       "      <th>efficacy</th>\n",
       "      <th>logistics</th>\n",
       "      <th>business_or_sponsor_reason</th>\n",
       "      <th>...</th>\n",
       "      <th>category</th>\n",
       "      <th>others</th>\n",
       "      <th>enrollment_related</th>\n",
       "      <th>pi_related</th>\n",
       "      <th>slow_accrual</th>\n",
       "      <th>funding_related</th>\n",
       "      <th>added_by_error</th>\n",
       "      <th>study_competition</th>\n",
       "      <th>covid-19_and_similar_epidemic_related</th>\n",
       "      <th>completed_early_or_truncated_completion</th>\n",
       "    </tr>\n",
       "  </thead>\n",
       "  <tbody>\n",
       "    <tr>\n",
       "      <th>0</th>\n",
       "      <td>TERMINATED</td>\n",
       "      <td>OBSERVATIONAL</td>\n",
       "      <td>replace another study</td>\n",
       "      <td>NCT00000105</td>\n",
       "      <td>Replaced by another study.</td>\n",
       "      <td>0</td>\n",
       "      <td>0</td>\n",
       "      <td>0</td>\n",
       "      <td>0</td>\n",
       "      <td>0</td>\n",
       "      <td>...</td>\n",
       "      <td>1.0</td>\n",
       "      <td>0</td>\n",
       "      <td>0</td>\n",
       "      <td>0</td>\n",
       "      <td>0</td>\n",
       "      <td>0</td>\n",
       "      <td>0</td>\n",
       "      <td>1</td>\n",
       "      <td>0</td>\n",
       "      <td>0</td>\n",
       "    </tr>\n",
       "    <tr>\n",
       "      <th>1</th>\n",
       "      <td>WITHDRAWN</td>\n",
       "      <td>INTERVENTIONAL</td>\n",
       "      <td>study never open never enrollment patient</td>\n",
       "      <td>NCT00000270</td>\n",
       "      <td>Study never opened; never enrolled participants</td>\n",
       "      <td>0</td>\n",
       "      <td>0</td>\n",
       "      <td>0</td>\n",
       "      <td>0</td>\n",
       "      <td>0</td>\n",
       "      <td>...</td>\n",
       "      <td>1.0</td>\n",
       "      <td>0</td>\n",
       "      <td>1</td>\n",
       "      <td>0</td>\n",
       "      <td>0</td>\n",
       "      <td>0</td>\n",
       "      <td>0</td>\n",
       "      <td>0</td>\n",
       "      <td>0</td>\n",
       "      <td>0</td>\n",
       "    </tr>\n",
       "    <tr>\n",
       "      <th>2</th>\n",
       "      <td>TERMINATED</td>\n",
       "      <td>INTERVENTIONAL</td>\n",
       "      <td>original investigator leave institution</td>\n",
       "      <td>NCT00000305</td>\n",
       "      <td>Original P.I. left the institution</td>\n",
       "      <td>0</td>\n",
       "      <td>0</td>\n",
       "      <td>0</td>\n",
       "      <td>0</td>\n",
       "      <td>0</td>\n",
       "      <td>...</td>\n",
       "      <td>1.0</td>\n",
       "      <td>0</td>\n",
       "      <td>0</td>\n",
       "      <td>1</td>\n",
       "      <td>0</td>\n",
       "      <td>0</td>\n",
       "      <td>0</td>\n",
       "      <td>0</td>\n",
       "      <td>0</td>\n",
       "      <td>0</td>\n",
       "    </tr>\n",
       "    <tr>\n",
       "      <th>3</th>\n",
       "      <td>TERMINATED</td>\n",
       "      <td>INTERVENTIONAL</td>\n",
       "      <td>unable enrollment adequate number patient</td>\n",
       "      <td>NCT00000309</td>\n",
       "      <td>Unable to recruit adequate number of subjects</td>\n",
       "      <td>0</td>\n",
       "      <td>0</td>\n",
       "      <td>0</td>\n",
       "      <td>0</td>\n",
       "      <td>0</td>\n",
       "      <td>...</td>\n",
       "      <td>1.0</td>\n",
       "      <td>0</td>\n",
       "      <td>1</td>\n",
       "      <td>0</td>\n",
       "      <td>0</td>\n",
       "      <td>0</td>\n",
       "      <td>0</td>\n",
       "      <td>0</td>\n",
       "      <td>0</td>\n",
       "      <td>0</td>\n",
       "    </tr>\n",
       "    <tr>\n",
       "      <th>4</th>\n",
       "      <td>WITHDRAWN</td>\n",
       "      <td>INTERVENTIONAL</td>\n",
       "      <td>study never funded</td>\n",
       "      <td>NCT00000340</td>\n",
       "      <td>Study was never funded.</td>\n",
       "      <td>0</td>\n",
       "      <td>0</td>\n",
       "      <td>0</td>\n",
       "      <td>0</td>\n",
       "      <td>0</td>\n",
       "      <td>...</td>\n",
       "      <td>1.0</td>\n",
       "      <td>0</td>\n",
       "      <td>0</td>\n",
       "      <td>0</td>\n",
       "      <td>0</td>\n",
       "      <td>1</td>\n",
       "      <td>0</td>\n",
       "      <td>0</td>\n",
       "      <td>0</td>\n",
       "      <td>0</td>\n",
       "    </tr>\n",
       "  </tbody>\n",
       "</table>\n",
       "<p>5 rows × 23 columns</p>\n",
       "</div>"
      ],
      "text/plain": [
       "  overallstatus      study_type                             lemmatize_text  \\\n",
       "0    TERMINATED   OBSERVATIONAL                      replace another study   \n",
       "1     WITHDRAWN  INTERVENTIONAL  study never open never enrollment patient   \n",
       "2    TERMINATED  INTERVENTIONAL    original investigator leave institution   \n",
       "3    TERMINATED  INTERVENTIONAL  unable enrollment adequate number patient   \n",
       "4     WITHDRAWN  INTERVENTIONAL                         study never funded   \n",
       "\n",
       "        nct_id                                         raw_text  \\\n",
       "0  NCT00000105                       Replaced by another study.   \n",
       "1  NCT00000270  Study never opened; never enrolled participants   \n",
       "2  NCT00000305               Original P.I. left the institution   \n",
       "3  NCT00000309    Unable to recruit adequate number of subjects   \n",
       "4  NCT00000340                          Study was never funded.   \n",
       "\n",
       "   trial_no_longer_needed  inadequate_study_design_or_study_redesign  \\\n",
       "0                       0                                          0   \n",
       "1                       0                                          0   \n",
       "2                       0                                          0   \n",
       "3                       0                                          0   \n",
       "4                       0                                          0   \n",
       "\n",
       "   efficacy  logistics  business_or_sponsor_reason  ...  category  others  \\\n",
       "0         0          0                           0  ...       1.0       0   \n",
       "1         0          0                           0  ...       1.0       0   \n",
       "2         0          0                           0  ...       1.0       0   \n",
       "3         0          0                           0  ...       1.0       0   \n",
       "4         0          0                           0  ...       1.0       0   \n",
       "\n",
       "   enrollment_related  pi_related  slow_accrual  funding_related  \\\n",
       "0                   0           0             0                0   \n",
       "1                   1           0             0                0   \n",
       "2                   0           1             0                0   \n",
       "3                   1           0             0                0   \n",
       "4                   0           0             0                1   \n",
       "\n",
       "   added_by_error  study_competition  covid-19_and_similar_epidemic_related  \\\n",
       "0               0                  1                                      0   \n",
       "1               0                  0                                      0   \n",
       "2               0                  0                                      0   \n",
       "3               0                  0                                      0   \n",
       "4               0                  0                                      0   \n",
       "\n",
       "   completed_early_or_truncated_completion  \n",
       "0                                        0  \n",
       "1                                        0  \n",
       "2                                        0  \n",
       "3                                        0  \n",
       "4                                        0  \n",
       "\n",
       "[5 rows x 23 columns]"
      ]
     },
     "execution_count": 6,
     "metadata": {},
     "output_type": "execute_result"
    }
   ],
   "source": [
    "data.head(5)"
   ]
  },
  {
   "cell_type": "code",
   "execution_count": 9,
   "id": "2933eb13",
   "metadata": {
    "_cell_guid": "0f400e3c-ed2e-42df-a3aa-50eca8529057",
    "_uuid": "5385f7ef-e88c-4724-beb6-431e2d9e70c6",
    "collapsed": false,
    "execution": {
     "iopub.execute_input": "2024-05-16T12:38:05.802735Z",
     "iopub.status.busy": "2024-05-16T12:38:05.802475Z",
     "iopub.status.idle": "2024-05-16T12:38:05.827919Z",
     "shell.execute_reply": "2024-05-16T12:38:05.827183Z"
    },
    "jupyter": {
     "outputs_hidden": false
    },
    "papermill": {
     "duration": 0.049916,
     "end_time": "2024-05-16T12:38:05.830144",
     "exception": false,
     "start_time": "2024-05-16T12:38:05.780228",
     "status": "completed"
    },
    "tags": []
   },
   "outputs": [],
   "source": [
    "\n",
    "data[\"text\"] = data['lemmatize_text']\n",
    "\n",
    "# Split data into train and test\n",
    "test = data[data['category'].isnull()].copy()  # Select rows where 'category' is null\n",
    "train = data[data['category'].notnull()].copy()  # Select rows where 'category' is not null\n",
    "\n",
    "# Drop the 'category' column from train and test dataframes\n",
    "test.drop(columns=['category'], inplace=True)\n",
    "train.drop(columns=['category'], inplace=True)\n",
    "\n",
    "# Reset index\n",
    "test.reset_index(drop=True, inplace=True)\n",
    "train.reset_index(drop=True, inplace=True)"
   ]
  },
  {
   "cell_type": "code",
   "execution_count": 10,
   "id": "ffc10850",
   "metadata": {
    "_cell_guid": "637bdede-c07e-4518-836b-25bcd8e5e998",
    "_uuid": "e495a7a4-c209-4874-9809-4bb285446cbd",
    "collapsed": false,
    "execution": {
     "iopub.execute_input": "2024-05-16T12:38:05.879690Z",
     "iopub.status.busy": "2024-05-16T12:38:05.879355Z",
     "iopub.status.idle": "2024-05-16T12:38:05.884194Z",
     "shell.execute_reply": "2024-05-16T12:38:05.883258Z"
    },
    "jupyter": {
     "outputs_hidden": false
    },
    "papermill": {
     "duration": 0.033233,
     "end_time": "2024-05-16T12:38:05.886735",
     "exception": false,
     "start_time": "2024-05-16T12:38:05.853502",
     "status": "completed"
    },
    "tags": []
   },
   "outputs": [
    {
     "name": "stdout",
     "output_type": "stream",
     "text": [
      "(9277, 23) vs (15008, 23)\n"
     ]
    }
   ],
   "source": [
    "print(f\"{train.shape} vs {test.shape}\")"
   ]
  },
  {
   "cell_type": "code",
   "execution_count": 12,
   "id": "d66e8a88",
   "metadata": {
    "_cell_guid": "6f23980b-507e-46ab-9769-e7ea6c774fe8",
    "_uuid": "d298d9af-3cb2-46fb-bf73-4bf16546773d",
    "collapsed": false,
    "execution": {
     "iopub.execute_input": "2024-05-16T12:38:06.018899Z",
     "iopub.status.busy": "2024-05-16T12:38:06.018304Z",
     "iopub.status.idle": "2024-05-16T12:38:06.025010Z",
     "shell.execute_reply": "2024-05-16T12:38:06.024077Z"
    },
    "id": "5gRoAlHsHN2-",
    "jupyter": {
     "outputs_hidden": false
    },
    "papermill": {
     "duration": 0.033903,
     "end_time": "2024-05-16T12:38:06.027181",
     "exception": false,
     "start_time": "2024-05-16T12:38:05.993278",
     "status": "completed"
    },
    "tags": []
   },
   "outputs": [],
   "source": [
    "list_classes = ['trial_no_longer_needed', 'inadequate_study_design_or_study_redesign',\n",
    "       'efficacy', 'logistics', 'business_or_sponsor_reason',\n",
    "       'negligence_or_recommandation_of_legalities', 'organizational_issues',\n",
    "       'safety_ethics_aes', 'others', 'enrollment_related',\n",
    "       'pi_related', 'slow_accrual', 'funding_related', 'added_by_error',\n",
    "       'study_competition', 'covid-19_and_similar_epidemic_related',\n",
    "       'completed_early_or_truncated_completion']\n",
    "y = train[list_classes].values\n",
    "list_sentences_train = train[\"text\"]\n",
    "list_sentences_test = test[\"text\"]"
   ]
  },
  {
   "cell_type": "code",
   "execution_count": 13,
   "id": "8ea32af8",
   "metadata": {
    "_cell_guid": "f7239865-f56d-4852-884d-d45844a65b45",
    "_uuid": "cfb5e18a-dfc8-4156-b6b8-6cf5501de95b",
    "collapsed": false,
    "execution": {
     "iopub.execute_input": "2024-05-16T12:38:06.172518Z",
     "iopub.status.busy": "2024-05-16T12:38:06.171729Z",
     "iopub.status.idle": "2024-05-16T12:38:06.247617Z",
     "shell.execute_reply": "2024-05-16T12:38:06.246452Z"
    },
    "jupyter": {
     "outputs_hidden": false
    },
    "papermill": {
     "duration": 0.103515,
     "end_time": "2024-05-16T12:38:06.249843",
     "exception": false,
     "start_time": "2024-05-16T12:38:06.146328",
     "status": "completed"
    },
    "tags": []
   },
   "outputs": [
    {
     "name": "stdout",
     "output_type": "stream",
     "text": [
      "Number of total unique word instances: 9286\n"
     ]
    }
   ],
   "source": [
    "\n",
    "words = data['text'].str.split()\n",
    "# Flatten the list of lists into a single list of words\n",
    "all_words = [word for sublist in words if isinstance(sublist, list) for word in sublist]\n",
    "# Count the number of unique words\n",
    "num_unique_words = len(set(all_words))\n",
    "# Count the number of unique words\n",
    "num_unique_words = len(set(all_words))\n",
    "# Print the result\n",
    "print(\"Number of total unique word instances:\", num_unique_words)"
   ]
  },
  {
   "cell_type": "code",
   "execution_count": 14,
   "id": "871c2e23",
   "metadata": {
    "_cell_guid": "9075cf4b-46c9-4041-b958-da26a3d250ac",
    "_uuid": "fdbb6e5e-b317-4e02-bc0b-87b9658e6d18",
    "collapsed": false,
    "execution": {
     "iopub.execute_input": "2024-05-16T12:38:06.299750Z",
     "iopub.status.busy": "2024-05-16T12:38:06.299390Z",
     "iopub.status.idle": "2024-05-16T12:38:06.964430Z",
     "shell.execute_reply": "2024-05-16T12:38:06.963407Z"
    },
    "id": "PbO1F08SHN2-",
    "jupyter": {
     "outputs_hidden": false
    },
    "papermill": {
     "duration": 0.692748,
     "end_time": "2024-05-16T12:38:06.966983",
     "exception": false,
     "start_time": "2024-05-16T12:38:06.274235",
     "status": "completed"
    },
    "tags": []
   },
   "outputs": [],
   "source": [
    "max_features = num_unique_words   ### sometimes +/- 1 is needed\n",
    "tokenizer = Tokenizer(num_words=max_features)\n",
    "tokenizer.fit_on_texts(list(list_sentences_train))\n",
    "list_tokenized_train = tokenizer.texts_to_sequences(list_sentences_train)\n",
    "list_tokenized_test = tokenizer.texts_to_sequences(list_sentences_test)"
   ]
  },
  {
   "cell_type": "code",
   "execution_count": 16,
   "id": "00af556e",
   "metadata": {
    "_cell_guid": "f3189071-d385-4848-83fc-881d60b12d68",
    "_uuid": "5613a6c7-d75e-41c1-989d-ec57134a9800",
    "collapsed": false,
    "execution": {
     "iopub.execute_input": "2024-05-16T12:38:07.309258Z",
     "iopub.status.busy": "2024-05-16T12:38:07.308902Z",
     "iopub.status.idle": "2024-05-16T12:38:07.314534Z",
     "shell.execute_reply": "2024-05-16T12:38:07.313621Z"
    },
    "id": "vXj3OmohHN3A",
    "jupyter": {
     "outputs_hidden": false
    },
    "papermill": {
     "duration": 0.033883,
     "end_time": "2024-05-16T12:38:07.316501",
     "exception": false,
     "start_time": "2024-05-16T12:38:07.282618",
     "status": "completed"
    },
    "tags": []
   },
   "outputs": [],
   "source": [
    "totalNumWords = [len(one_comment) for one_comment in list_tokenized_train]"
   ]
  },
  {
   "cell_type": "code",
   "execution_count": 17,
   "id": "2aa9b04c",
   "metadata": {
    "_cell_guid": "0ee51dc9-0c73-4615-b810-842e043bab9e",
    "_uuid": "a8c8b61c-8be1-4876-8957-8665bd045c74",
    "collapsed": false,
    "execution": {
     "iopub.execute_input": "2024-05-16T12:38:07.363948Z",
     "iopub.status.busy": "2024-05-16T12:38:07.363652Z",
     "iopub.status.idle": "2024-05-16T12:38:07.715545Z",
     "shell.execute_reply": "2024-05-16T12:38:07.714695Z"
    },
    "id": "lsFVDDDwHN3A",
    "jupyter": {
     "outputs_hidden": false
    },
    "outputId": "7d8d187a-1f51-485a-8c2b-4d05c4c4a52b",
    "papermill": {
     "duration": 0.377868,
     "end_time": "2024-05-16T12:38:07.717606",
     "exception": false,
     "start_time": "2024-05-16T12:38:07.339738",
     "status": "completed"
    },
    "tags": []
   },
   "outputs": [
    {
     "data": {
      "image/png": "[encoded data removed]",
      "text/plain": [
       "<Figure size 640x480 with 1 Axes>"
      ]
     },
     "metadata": {},
     "output_type": "display_data"
    }
   ],
   "source": [
    "plt.hist(totalNumWords,bins = np.arange(0,60,1))#[0,50,100,150,200,250,300,350,400])#,450,500,550,600,650,700,750,800,850,900])\n",
    "plt.show()"
   ]
  },
  {
   "cell_type": "code",
   "execution_count": 18,
   "id": "6d770335",
   "metadata": {
    "_cell_guid": "1f9dda58-1fd7-4e2a-902d-da825860b6f1",
    "_uuid": "6193d0bf-a1b0-40f3-88b3-9b1d2512c48d",
    "collapsed": false,
    "execution": {
     "iopub.execute_input": "2024-05-16T12:38:07.764692Z",
     "iopub.status.busy": "2024-05-16T12:38:07.764063Z",
     "iopub.status.idle": "2024-05-16T12:38:07.871017Z",
     "shell.execute_reply": "2024-05-16T12:38:07.870240Z"
    },
    "id": "URji2yHVHN3A",
    "jupyter": {
     "outputs_hidden": false
    },
    "papermill": {
     "duration": 0.132928,
     "end_time": "2024-05-16T12:38:07.873146",
     "exception": false,
     "start_time": "2024-05-16T12:38:07.740218",
     "status": "completed"
    },
    "tags": []
   },
   "outputs": [],
   "source": [
    "maxlen = max(totalNumWords)\n",
    "X_t = pad_sequences(list_tokenized_train, maxlen=maxlen)\n",
    "X_te = pad_sequences(list_tokenized_test, maxlen=maxlen)"
   ]
  },
  {
   "cell_type": "markdown",
   "id": "63cf91d9",
   "metadata": {
    "_cell_guid": "32355233-5b86-4f63-880d-21d9903571ea",
    "_uuid": "59fdb08c-4283-4b8e-b7f4-9423cd150ae3",
    "id": "Rc5OknbmHN3B",
    "papermill": {
     "duration": 0.023941,
     "end_time": "2024-05-16T12:38:09.173193",
     "exception": false,
     "start_time": "2024-05-16T12:38:09.149252",
     "status": "completed"
    },
    "tags": []
   },
   "source": [
    "Next, we feed this Tensor into the LSTM layer. We set the LSTM to produce an output that has a dimension of 60 and want it to return the whole unrolled sequence of results.\n",
    "As you probably know, LSTM or RNN works by recursively feeding the output of a previous network into the input of the current network, and you would take the final output after X number of recursion. But depending on use cases, you might want to take the unrolled, or the outputs of each recursion as the result to pass to the next layer. And this is the case."
   ]
  },
  {
   "cell_type": "markdown",
   "id": "89236a35",
   "metadata": {
    "_cell_guid": "ef2e2cbe-6ecf-4ea3-8212-932bc5b30241",
    "_uuid": "75d2f9b5-d80d-41b7-a7bc-5a4e54d3d2d2",
    "id": "czzUI-8xHN3B",
    "papermill": {
     "duration": 0.023963,
     "end_time": "2024-05-16T12:38:09.220839",
     "exception": false,
     "start_time": "2024-05-16T12:38:09.196876",
     "status": "completed"
    },
    "tags": []
   },
   "source": [
    "![](http://colah.github.io/posts/2015-08-Understanding-LSTMs/img/RNN-unrolled.png)"
   ]
  },
  {
   "cell_type": "markdown",
   "id": "5466133d",
   "metadata": {
    "_cell_guid": "e8b41523-ae31-4972-9bfa-891fe96580d1",
    "_uuid": "9adf476e-643a-4759-8a82-0cfe72a0d34a",
    "id": "xOcXr02AHN3B",
    "papermill": {
     "duration": 0.025014,
     "end_time": "2024-05-16T12:38:09.269127",
     "exception": false,
     "start_time": "2024-05-16T12:38:09.244113",
     "status": "completed"
    },
    "tags": []
   },
   "source": [
    "From the above picture, the unrolled LSTM would give us a set of h0,h1,h2 until the last h."
   ]
  },
  {
   "cell_type": "markdown",
   "id": "e1667343",
   "metadata": {
    "_cell_guid": "f3e9cb94-2800-4442-bbf2-fd613df11a2d",
    "_uuid": "d88d791a-4742-4c9e-afc2-c0be90c69dc2",
    "id": "x3VY6JhOHN3C",
    "papermill": {
     "duration": 0.025089,
     "end_time": "2024-05-16T12:38:09.319633",
     "exception": false,
     "start_time": "2024-05-16T12:38:09.294544",
     "status": "completed"
    },
    "tags": []
   },
   "source": [
    "From the short line of code that defines the LSTM layer, it's easy to miss the required input dimensions. LSTM takes in a tensor of [Batch Size, Time Steps, Number of Inputs]. Batch size is the number of samples in a batch, time steps is the number of recursion it runs for each input, or it could be pictured as the number of \"A\"s in the above picture. Lastly, number of inputs is the number of variables(number of words in each sentence in our case) you pass into LSTM as pictured in \"x\" above."
   ]
  },
  {
   "cell_type": "markdown",
   "id": "2b0dfbeb",
   "metadata": {
    "_cell_guid": "161386c2-7dd3-440c-8200-49e02e9b023b",
    "_uuid": "221341f2-7273-440b-a967-238c9f7c3bb1",
    "id": "0nNPAAryHN3C",
    "papermill": {
     "duration": 0.024128,
     "end_time": "2024-05-16T12:38:09.368073",
     "exception": false,
     "start_time": "2024-05-16T12:38:09.343945",
     "status": "completed"
    },
    "tags": []
   },
   "source": [
    "We can make use of the output from the previous embedding layer which outputs a 3-D tensor of (None, 200, 128) into the LSTM layer. What it does is going through the samples, recursively run the LSTM model for 200 times, passing in the coordinates of the words each time. And because we want the unrolled version, we will receive a Tensor shape of (None, 200, 60), where 60 is the output dimension we have defined."
   ]
  },
  {
   "cell_type": "markdown",
   "id": "abee06fb",
   "metadata": {
    "_cell_guid": "264c40ab-7145-4a26-9171-3e53d719b54f",
    "_uuid": "75884eb1-b2ac-4a24-ba25-753875fe2aef",
    "papermill": {
     "duration": 0.023144,
     "end_time": "2024-05-16T12:38:10.905503",
     "exception": false,
     "start_time": "2024-05-16T12:38:10.882359",
     "status": "completed"
    },
    "tags": []
   },
   "source": [
    "# GloVe vectorization"
   ]
  },
  {
   "cell_type": "code",
   "execution_count": 27,
   "id": "20cace97",
   "metadata": {
    "_cell_guid": "784a1ddd-990b-427d-a0d9-d59e4dfca6ed",
    "_uuid": "885e668f-989c-4d50-b422-b704782b6237",
    "collapsed": false,
    "execution": {
     "iopub.execute_input": "2024-05-16T12:38:10.954305Z",
     "iopub.status.busy": "2024-05-16T12:38:10.953945Z",
     "iopub.status.idle": "2024-05-16T12:38:12.128977Z",
     "shell.execute_reply": "2024-05-16T12:38:12.128179Z"
    },
    "jupyter": {
     "outputs_hidden": false
    },
    "papermill": {
     "duration": 1.202103,
     "end_time": "2024-05-16T12:38:12.131130",
     "exception": false,
     "start_time": "2024-05-16T12:38:10.929027",
     "status": "completed"
    },
    "tags": []
   },
   "outputs": [],
   "source": [
    "from nltk.tokenize import word_tokenize\n",
    "def create_corpus(df):\n",
    "    corpus=[]\n",
    "    for text in df['text']:\n",
    "        words=[word.lower() for word in word_tokenize(text) if((word.isalpha()==1))]\n",
    "        corpus.append(words)\n",
    "    return corpus"
   ]
  },
  {
   "cell_type": "code",
   "execution_count": 28,
   "id": "8f6b2e90",
   "metadata": {
    "_cell_guid": "b883a02e-d13e-42d1-bcf5-397c9fb8ba5b",
    "_uuid": "94fee8ac-c7e9-47ed-975c-b58632d5f75f",
    "collapsed": false,
    "execution": {
     "iopub.execute_input": "2024-05-16T12:38:12.181517Z",
     "iopub.status.busy": "2024-05-16T12:38:12.181128Z",
     "iopub.status.idle": "2024-05-16T12:38:16.228590Z",
     "shell.execute_reply": "2024-05-16T12:38:16.227650Z"
    },
    "jupyter": {
     "outputs_hidden": false
    },
    "papermill": {
     "duration": 4.07621,
     "end_time": "2024-05-16T12:38:16.231378",
     "exception": false,
     "start_time": "2024-05-16T12:38:12.155168",
     "status": "completed"
    },
    "tags": []
   },
   "outputs": [],
   "source": [
    "corpus=create_corpus(data)"
   ]
  },
  {
   "cell_type": "code",
   "execution_count": 29,
   "id": "8fd41b4c",
   "metadata": {
    "_cell_guid": "417a6ff1-1d7a-47a0-ad0f-9487fdddc1c6",
    "_uuid": "ea09a762-a122-4e53-946a-711a83b473ea",
    "collapsed": false,
    "execution": {
     "iopub.execute_input": "2024-05-16T12:38:16.283201Z",
     "iopub.status.busy": "2024-05-16T12:38:16.282821Z",
     "iopub.status.idle": "2024-05-16T12:38:40.814086Z",
     "shell.execute_reply": "2024-05-16T12:38:40.813150Z"
    },
    "jupyter": {
     "outputs_hidden": false
    },
    "papermill": {
     "duration": 24.560673,
     "end_time": "2024-05-16T12:38:40.816619",
     "exception": false,
     "start_time": "2024-05-16T12:38:16.255946",
     "status": "completed"
    },
    "tags": []
   },
   "outputs": [],
   "source": [
    "embedding_dict={}\n",
    "#download via https://www.kaggle.com/datasets/rtatman/glove-global-vectors-for-word-representation\n",
    "\n",
    "with open('/kaggle/input/glove-global-vectors-for-word-representation/glove.6B.200d.txt','r') as f:\n",
    "    for line in f:\n",
    "        values=line.split()\n",
    "        word=values[0]\n",
    "        vectors=np.asarray(values[1:],'float32')\n",
    "        embedding_dict[word]=vectors\n",
    "f.close()"
   ]
  },
  {
   "cell_type": "code",
   "execution_count": 30,
   "id": "79ce71f1",
   "metadata": {
    "_cell_guid": "0b9031a1-df45-4785-98d5-3acb053064a2",
    "_uuid": "554be0e2-2787-497d-bb4b-303d3a59b5a3",
    "collapsed": false,
    "execution": {
     "iopub.execute_input": "2024-05-16T12:38:40.864681Z",
     "iopub.status.busy": "2024-05-16T12:38:40.864369Z",
     "iopub.status.idle": "2024-05-16T12:38:41.525799Z",
     "shell.execute_reply": "2024-05-16T12:38:41.524611Z"
    },
    "jupyter": {
     "outputs_hidden": false
    },
    "papermill": {
     "duration": 0.68754,
     "end_time": "2024-05-16T12:38:41.527956",
     "exception": false,
     "start_time": "2024-05-16T12:38:40.840416",
     "status": "completed"
    },
    "tags": []
   },
   "outputs": [
    {
     "name": "stdout",
     "output_type": "stream",
     "text": [
      "Number of unique words: 9284\n"
     ]
    }
   ],
   "source": [
    "\n",
    "tokenizer_obj=Tokenizer()\n",
    "tokenizer_obj.fit_on_texts(corpus)\n",
    "sequences=tokenizer_obj.texts_to_sequences(corpus)\n",
    "\n",
    "text_pad=pad_sequences(sequences,maxlen=maxlen,truncating='post',padding='post')\n",
    "word_index=tokenizer_obj.word_index\n",
    "print('Number of unique words:',len(word_index))"
   ]
  },
  {
   "cell_type": "code",
   "execution_count": 31,
   "id": "e6139b81",
   "metadata": {
    "_cell_guid": "80615a56-b72d-4e04-a099-c9895bf81612",
    "_uuid": "1026ee05-9cd0-4f23-93aa-b41f0790bf7c",
    "collapsed": false,
    "execution": {
     "iopub.execute_input": "2024-05-16T12:38:41.577842Z",
     "iopub.status.busy": "2024-05-16T12:38:41.577497Z",
     "iopub.status.idle": "2024-05-16T12:38:41.610193Z",
     "shell.execute_reply": "2024-05-16T12:38:41.609384Z"
    },
    "jupyter": {
     "outputs_hidden": false
    },
    "papermill": {
     "duration": 0.060197,
     "end_time": "2024-05-16T12:38:41.612359",
     "exception": false,
     "start_time": "2024-05-16T12:38:41.552162",
     "status": "completed"
    },
    "tags": []
   },
   "outputs": [],
   "source": [
    "num_words=len(word_index)+1\n",
    "embedding_matrix=np.zeros((num_words,200))\n",
    "\n",
    "for word,i in word_index.items():\n",
    "    if i > num_words:\n",
    "        continue\n",
    "    \n",
    "    emb_vec=embedding_dict.get(word)\n",
    "    if emb_vec is not None:\n",
    "        embedding_matrix[i]=emb_vec"
   ]
  },
  {
   "cell_type": "markdown",
   "id": "e5a219ff",
   "metadata": {
    "_cell_guid": "8b6f438b-366b-4573-a6c1-9d89bd44c512",
    "_uuid": "1b7749b2-a331-4051-a783-ff0e6e716cb7",
    "papermill": {
     "duration": 0.024096,
     "end_time": "2024-05-16T12:38:41.660382",
     "exception": false,
     "start_time": "2024-05-16T12:38:41.636286",
     "status": "completed"
    },
    "tags": []
   },
   "source": [
    "Strength of Regularization: The value of l2 determines the strength of the L2 regularization penalty. A higher value of l2 leads to stronger regularization, meaning that the model will penalize larger weights more heavily. Conversely, a lower value of l2 results in weaker regularization, allowing the model to have larger weights without being penalized as much.\n",
    "\n",
    "Impact on Overfitting: Increasing the value of l2 tends to increase the model's resistance to overfitting. By penalizing large weights more heavily, L2 regularization discourages the model from fitting the training data too closely, leading to better generalization performance on unseen data. However, if l2 is too high, it may overly constrain the model and cause underfitting.\n",
    "\n",
    "Convergence Speed: The choice of l2 can also affect the convergence speed of the training process. Higher values of l2 may slow down the convergence because the model is more constrained by the regularization penalty, requiring more iterations to reach optimal weights. On the other hand, lower values of l2 may allow the model to converge faster but may also increase the risk of overfitting if not properly tuned.\n",
    "\n",
    "Model Performance: The optimal value of l2 depends on the specific dataset and model architecture. You may need to experiment with different values of l2 through hyperparameter tuning to find the setting that maximizes your model's performance on the validation set."
   ]
  },
  {
   "cell_type": "code",
   "execution_count": 32,
   "id": "2a6eb19e",
   "metadata": {
    "_cell_guid": "ae3a27ea-fca4-47a4-b072-a9b731239d25",
    "_uuid": "a04e13dd-a762-4274-8c2a-42cbc6d69c9e",
    "collapsed": false,
    "execution": {
     "iopub.execute_input": "2024-05-16T12:38:41.708836Z",
     "iopub.status.busy": "2024-05-16T12:38:41.708518Z",
     "iopub.status.idle": "2024-05-16T12:38:41.714043Z",
     "shell.execute_reply": "2024-05-16T12:38:41.713148Z"
    },
    "jupyter": {
     "outputs_hidden": false
    },
    "papermill": {
     "duration": 0.031993,
     "end_time": "2024-05-16T12:38:41.715967",
     "exception": false,
     "start_time": "2024-05-16T12:38:41.683974",
     "status": "completed"
    },
    "tags": []
   },
   "outputs": [
    {
     "data": {
      "text/plain": [
       "(9285, 200)"
      ]
     },
     "execution_count": 32,
     "metadata": {},
     "output_type": "execute_result"
    }
   ],
   "source": [
    "embedding_matrix.shape"
   ]
  },
  {
   "cell_type": "code",
   "execution_count": null,
   "id": "1587d14d",
   "metadata": {
    "_cell_guid": "1ecf5728-15b3-4668-a266-95f670066a13",
    "_uuid": "d92b260c-de6b-4b0e-8c2a-83286f41f502",
    "collapsed": false,
    "execution": {
     "iopub.execute_input": "2024-05-16T12:38:41.764550Z",
     "iopub.status.busy": "2024-05-16T12:38:41.764275Z",
     "iopub.status.idle": "2024-05-16T13:13:19.750718Z",
     "shell.execute_reply": "2024-05-16T13:13:19.749769Z"
    },
    "jupyter": {
     "outputs_hidden": false
    },
    "papermill": {
     "duration": 2079.382151,
     "end_time": "2024-05-16T13:13:21.121609",
     "exception": false,
     "start_time": "2024-05-16T12:38:41.739458",
     "status": "completed"
    },
    "scrolled": true,
    "tags": []
   },
   "outputs": [],
   "source": [
    "%%time\n",
    "from keras.models import Sequential\n",
    "from keras.layers import Embedding, SpatialDropout1D, LSTM, Dense\n",
    "from keras.optimizers import Adam\n",
    "from keras.initializers import Constant\n",
    "from keras.callbacks import EarlyStopping\n",
    "from keras.callbacks import ModelCheckpoint\n",
    "import tensorflow as tf\n",
    "from keras.regularizers import l2\n",
    "\n",
    "\n",
    "embed_size = 200\n",
    "batch_size = 264\n",
    "epochsx = 500\n",
    "epochs = epochsx + 1\n",
    "\n",
    "model = Sequential()\n",
    "\n",
    "embedding = Embedding(max_features, embed_size, embeddings_initializer=Constant(embedding_matrix),\n",
    "                       trainable=False)\n",
    "\n",
    "\n",
    "model.add(embedding)\n",
    "model.add(SpatialDropout1D(0.5))\n",
    "#model.add(Dense(50, activation='relu'))\n",
    "model.add(Dense(50, activation='relu', kernel_regularizer=l2(0.01)))\n",
    "\n",
    "model.add(LSTM(64, dropout=0.1, recurrent_dropout=0.1))\n",
    "model.add(Dense(17, activation='sigmoid'))\n",
    "\n",
    "\n",
    "\n",
    "optimizer = Adam(learning_rate=2*1e-3)\n",
    "\n",
    "\n",
    "# Define a callback to save the best model during training based on validation accuracy\n",
    "checkpoint = ModelCheckpoint('model_{epoch:02d}.keras', \n",
    "                             monitor='val_loss', \n",
    "                             verbose=1, \n",
    "                             save_best_only=False,  # Save all models\n",
    "                             mode='min',\n",
    "                             period=25, # Save every epoch\n",
    "                             start_epoch=50)\n",
    "\n",
    "class SaveModelCallback(tf.keras.callbacks.Callback):\n",
    "    def __init__(self, save_frequency):\n",
    "        super(SaveModelCallback, self).__init__()\n",
    "        self.save_frequency = save_frequency\n",
    "\n",
    "    def on_epoch_end(self, epoch, logs=None):\n",
    "        if epoch >= 299 and (epoch % self.save_frequency == 0):\n",
    "            if epoch == epochs:\n",
    "                self.model.save(f'model_epoch_{epoch+1}.keras')\n",
    "            else:\n",
    "                self.model.save(f'model_epoch_{epoch}.keras')\n",
    "\n",
    "# Define the save frequency (25 epochs in this case)\n",
    "save_frequency = 25\n",
    "save_model_callback = SaveModelCallback(save_frequency)\n",
    "\n",
    "model.compile(loss='binary_crossentropy', optimizer=optimizer, metrics=['accuracy'])\n",
    "\n",
    "\n",
    "history = model.fit(X_t, y, batch_size=batch_size, epochs=epochs, validation_split=0.2,callbacks=[save_model_callback])"
   ]
  },
  {
   "cell_type": "code",
   "execution_count": 34,
   "id": "7ae24c05",
   "metadata": {
    "_cell_guid": "2965deed-43f3-4986-a1b7-d6b183c89b68",
    "_uuid": "4e65804b-c270-4a3a-ae4f-acb3b496202d",
    "collapsed": false,
    "execution": {
     "iopub.execute_input": "2024-05-16T13:13:23.900553Z",
     "iopub.status.busy": "2024-05-16T13:13:23.900153Z",
     "iopub.status.idle": "2024-05-16T13:13:24.600394Z",
     "shell.execute_reply": "2024-05-16T13:13:24.599493Z"
    },
    "jupyter": {
     "outputs_hidden": false
    },
    "papermill": {
     "duration": 2.119585,
     "end_time": "2024-05-16T13:13:24.602813",
     "exception": false,
     "start_time": "2024-05-16T13:13:22.483228",
     "status": "completed"
    },
    "tags": []
   },
   "outputs": [
    {
     "data": {
      "image/png": "[encoded data removed]",
      "text/plain": [
       "<Figure size 1000x600 with 1 Axes>"
      ]
     },
     "metadata": {},
     "output_type": "display_data"
    },
    {
     "data": {
      "image/png": "[encoded data removed]",
      "text/plain": [
       "<Figure size 1000x600 with 1 Axes>"
      ]
     },
     "metadata": {},
     "output_type": "display_data"
    }
   ],
   "source": [
    "# Extract metrics from history\n",
    "metrics = {\n",
    "    'epoch': list(range(1, epochs + 1)),\n",
    "    'train_loss': history.history['loss'],\n",
    "    'val_loss': history.history['val_loss'],\n",
    "    'train_accuracy': history.history['accuracy'],\n",
    "    'val_accuracy': history.history['val_accuracy']\n",
    "}\n",
    "\n",
    "\n",
    "# Create a DataFrame\n",
    "metrics_df = pd.DataFrame(metrics)\n",
    "\n",
    "# Plot the metrics\n",
    "plt.figure(figsize=(10, 6))\n",
    "\n",
    "\n",
    "plt.plot(metrics_df['epoch'], metrics_df['train_accuracy'], label='Train Accuracy')\n",
    "plt.plot(metrics_df['epoch'], metrics_df['val_accuracy'], label='Val Accuracy')\n",
    "\n",
    "\n",
    "plt.xlabel('Epochs')\n",
    "plt.ylabel('Metrics')\n",
    "plt.title('Training and Validation Metrics')\n",
    "plt.legend()\n",
    "plt.grid(True)\n",
    "plt.show()\n",
    "\n",
    "# Plot the metrics\n",
    "plt.figure(figsize=(10, 6))\n",
    "\n",
    "plt.plot(metrics_df['epoch'], metrics_df['train_loss'], label='Train Loss')\n",
    "plt.plot(metrics_df['epoch'], metrics_df['val_loss'], label='Val Loss')\n",
    "\n",
    "\n",
    "plt.xlabel('Epochs')\n",
    "plt.ylabel('Metrics')\n",
    "plt.title('Training and Validation Metrics')\n",
    "plt.legend()\n",
    "plt.grid(True)\n",
    "plt.show()"
   ]
  },
  {
   "cell_type": "code",
   "execution_count": 35,
   "id": "c3921f4f",
   "metadata": {
    "_cell_guid": "59f72a37-ed21-4e56-bdd8-2c3c2804e384",
    "_uuid": "3b76d2b0-617b-4fca-86cc-b03fa457f74e",
    "collapsed": false,
    "execution": {
     "iopub.execute_input": "2024-05-16T13:13:27.314347Z",
     "iopub.status.busy": "2024-05-16T13:13:27.313250Z",
     "iopub.status.idle": "2024-05-16T13:17:39.871389Z",
     "shell.execute_reply": "2024-05-16T13:17:39.870296Z"
    },
    "jupyter": {
     "outputs_hidden": false
    },
    "papermill": {
     "duration": 253.943764,
     "end_time": "2024-05-16T13:17:39.873573",
     "exception": false,
     "start_time": "2024-05-16T13:13:25.929809",
     "status": "completed"
    },
    "tags": []
   },
   "outputs": [
    {
     "name": "stdout",
     "output_type": "stream",
     "text": [
      "model_epoch_300.keras\n",
      "469/469 [==============================] - 6s 12ms/step\n",
      "\n",
      "300 epoch: (9009, 23) avec +50% pred sur les (15008, 22) ou 40.0% d'erreur\n",
      "model_epoch_325.keras\n",
      "469/469 [==============================] - 6s 13ms/step\n",
      "\n",
      "325 epoch: (8870, 23) avec +50% pred sur les (15008, 22) ou 41.0% d'erreur\n",
      "model_epoch_350.keras\n",
      "469/469 [==============================] - 6s 13ms/step\n",
      "\n",
      "350 epoch: (9232, 23) avec +50% pred sur les (15008, 22) ou 38.0% d'erreur\n",
      "model_epoch_375.keras\n",
      "469/469 [==============================] - 6s 12ms/step\n",
      "\n",
      "375 epoch: (9366, 23) avec +50% pred sur les (15008, 22) ou 38.0% d'erreur\n",
      "model_epoch_400.keras\n",
      "469/469 [==============================] - 6s 13ms/step\n",
      "\n",
      "400 epoch: (8849, 23) avec +50% pred sur les (15008, 22) ou 41.0% d'erreur\n",
      "model_epoch_425.keras\n",
      "469/469 [==============================] - 6s 13ms/step\n",
      "\n",
      "425 epoch: (8923, 23) avec +50% pred sur les (15008, 22) ou 41.0% d'erreur\n",
      "model_epoch_450.keras\n",
      "469/469 [==============================] - 6s 13ms/step\n",
      "\n",
      "450 epoch: (8945, 23) avec +50% pred sur les (15008, 22) ou 40.0% d'erreur\n",
      "model_epoch_475.keras\n",
      "469/469 [==============================] - 6s 13ms/step\n",
      "\n",
      "475 epoch: (9030, 23) avec +50% pred sur les (15008, 22) ou 40.0% d'erreur\n",
      "model_epoch_500.keras\n",
      "469/469 [==============================] - 6s 13ms/step\n",
      "\n",
      "500 epoch: (8775, 23) avec +50% pred sur les (15008, 22) ou 42.0% d'erreur\n"
     ]
    }
   ],
   "source": [
    "from keras.models import load_model\n",
    "import pandas as pd\n",
    "\n",
    "\n",
    "best_epoch = \"\"\n",
    "best_model = None\n",
    "best_epoch_val = 1\n",
    "i = 300\n",
    "while i <= 500:\n",
    "    modelepoch = f'model_epoch_{i}.keras'\n",
    "    print(modelepoch)\n",
    "    \n",
    "\n",
    "    \n",
    "    # Make predictions on the test data using the best model\n",
    "    epoch_model = load_model(modelepoch)\n",
    "    predictions = epoch_model.predict(X_te)\n",
    "\n",
    "    # Assuming test_df is your test dataframe and predictions_df is your predictions dataframe\n",
    "    predictions_df = pd.DataFrame(predictions, columns=['prediction_{}'.format(i) for i in range(predictions.shape[1])])\n",
    "\n",
    "    # remove the text col\n",
    "    testx = test.iloc[:, :-1]\n",
    "    # Extract the last 16 column names from the test dataframe\n",
    "    last_16_column_names = testx.columns[-17:]\n",
    "\n",
    "    # Rename the columns of predictions_df with the last 16 column names\n",
    "    predictions_df.columns = last_16_column_names\n",
    "    predictions_df = predictions_df.round(4)\n",
    "    # Remove the last 16 columns from the test dataframe\n",
    "    testx = testx.iloc[:, :-17]\n",
    "\n",
    "    # Concatenate test dataframe and predictions dataframe column-wise\n",
    "    result_df = pd.concat([testx, predictions_df], axis=1)\n",
    "\n",
    "    # List of columns to check\n",
    "    columns_to_check = ['trial_no_longer_needed', 'inadequate_study_design_or_study_redesign',\n",
    "       'efficacy', 'logistics', 'business_or_sponsor_reason',\n",
    "       'negligence_or_recommandation_of_legalities', 'organizational_issues',\n",
    "       'safety_ethics_aes', 'others', 'enrollment_related',\n",
    "       'pi_related', 'slow_accrual', 'funding_related', 'added_by_error',\n",
    "       'study_competition', 'covid-19_and_similar_epidemic_related',\n",
    "       'completed_early_or_truncated_completion']\n",
    "    # Filter result_df to keep only the rows where at least one value in the specified columns is > 0.5\n",
    "    filtered_df = result_df[(result_df[columns_to_check] >= 0.5).any(axis=1)]\n",
    "    unclassified = result_df[(result_df[columns_to_check] < 0.5).any(axis=1)]\n",
    "\n",
    "    # Add a new column \"unclassified\" and set the value to 0 for all rows\n",
    "    filtered_df = filtered_df.assign(unclassified=0)\n",
    "    unclassified = unclassified.assign(unclassified=1)\n",
    "\n",
    "    result_df_len = len(result_df)\n",
    "    filtered_df_len = len(filtered_df)\n",
    "\n",
    "    # Calculate the result of the expression\n",
    "    result = (result_df_len - filtered_df_len) / result_df_len\n",
    "    \n",
    "    if result < best_epoch_val :\n",
    "        best_epoch = modelepoch\n",
    "        best_epoch_val = result\n",
    "        best_model = epoch_model\n",
    "\n",
    "    # Print the filtered DataFrame\n",
    "    print(f\"\\n{i} epoch: {filtered_df.shape} avec +50% pred sur les {result_df.shape} ou {round(result,2)*100}% d'erreur\")\n",
    "    i += 25"
   ]
  },
  {
   "cell_type": "code",
   "execution_count": 36,
   "id": "1e6366ed",
   "metadata": {
    "_cell_guid": "75ef29dd-7487-4814-ad84-d6385bb7025d",
    "_uuid": "4be5d43a-7189-4236-8a65-8cebfce3db28",
    "collapsed": false,
    "execution": {
     "iopub.execute_input": "2024-05-16T13:17:42.850803Z",
     "iopub.status.busy": "2024-05-16T13:17:42.850414Z",
     "iopub.status.idle": "2024-05-16T13:17:48.849483Z",
     "shell.execute_reply": "2024-05-16T13:17:48.848669Z"
    },
    "jupyter": {
     "outputs_hidden": false
    },
    "papermill": {
     "duration": 7.537883,
     "end_time": "2024-05-16T13:17:48.851935",
     "exception": false,
     "start_time": "2024-05-16T13:17:41.314052",
     "status": "completed"
    },
    "tags": []
   },
   "outputs": [
    {
     "name": "stdout",
     "output_type": "stream",
     "text": [
      "469/469 [==============================] - 6s 12ms/step\n"
     ]
    }
   ],
   "source": [
    "### Load the best model\n",
    "from keras.models import load_model\n",
    "#best_model = load_model(best_epoch)\n",
    "\n",
    "# Make predictions on the test data using the best model\n",
    "predictions = best_model.predict(X_te)\n",
    "#predictions = model.predict(X_te)"
   ]
  },
  {
   "cell_type": "code",
   "execution_count": 37,
   "id": "d6492c26",
   "metadata": {
    "_cell_guid": "ba124900-b9d2-46b7-a96e-51d24bc056db",
    "_uuid": "0f0b0374-487c-43ce-b396-02f26b8562f1",
    "collapsed": false,
    "execution": {
     "iopub.execute_input": "2024-05-16T13:17:51.753349Z",
     "iopub.status.busy": "2024-05-16T13:17:51.752557Z",
     "iopub.status.idle": "2024-05-16T13:17:51.768268Z",
     "shell.execute_reply": "2024-05-16T13:17:51.767204Z"
    },
    "jupyter": {
     "outputs_hidden": false
    },
    "papermill": {
     "duration": 1.482662,
     "end_time": "2024-05-16T13:17:51.770450",
     "exception": false,
     "start_time": "2024-05-16T13:17:50.287788",
     "status": "completed"
    },
    "tags": []
   },
   "outputs": [
    {
     "data": {
      "text/plain": [
       "(15008, 22)"
      ]
     },
     "execution_count": 37,
     "metadata": {},
     "output_type": "execute_result"
    }
   ],
   "source": [
    "import pandas as pd\n",
    "\n",
    "# Assuming test_df is your test dataframe and predictions_df is your predictions dataframe\n",
    "predictions_df = pd.DataFrame(predictions, columns=['prediction_{}'.format(i) for i in range(predictions.shape[1])])\n",
    "\n",
    "\n",
    "# remove the text col\n",
    "testx = test.iloc[:, :-1]\n",
    "# Extract the last 16 column names from the test dataframe\n",
    "last_16_column_names = testx.columns[-17:]\n",
    "\n",
    "# Rename the columns of predictions_df with the last 16 column names\n",
    "predictions_df.columns = last_16_column_names\n",
    "predictions_df = predictions_df.round(4)\n",
    "# Remove the last 16 columns from the test dataframe\n",
    "testx = testx.iloc[:, :-17]\n",
    "\n",
    "# Concatenate test dataframe and predictions dataframe column-wise\n",
    "result_df = pd.concat([testx, predictions_df], axis=1)\n",
    "\n",
    "# Print the resulting dataframe\n",
    "result_df.shape"
   ]
  },
  {
   "cell_type": "code",
   "execution_count": 38,
   "id": "ed10cb6e",
   "metadata": {
    "_cell_guid": "0c289bb9-7d46-4fca-b5b8-e63cbaf3fd5e",
    "_uuid": "cc22ef5c-d3d8-4418-b7ff-f848fc94356c",
    "collapsed": false,
    "execution": {
     "iopub.execute_input": "2024-05-16T13:17:54.696476Z",
     "iopub.status.busy": "2024-05-16T13:17:54.696064Z",
     "iopub.status.idle": "2024-05-16T13:17:54.700429Z",
     "shell.execute_reply": "2024-05-16T13:17:54.699500Z"
    },
    "jupyter": {
     "outputs_hidden": false
    },
    "papermill": {
     "duration": 1.519661,
     "end_time": "2024-05-16T13:17:54.702338",
     "exception": false,
     "start_time": "2024-05-16T13:17:53.182677",
     "status": "completed"
    },
    "tags": []
   },
   "outputs": [],
   "source": [
    "#result_df.to_csv(\"kaggle/working/withdraw_results.csv\",index=False)"
   ]
  },
  {
   "cell_type": "code",
   "execution_count": 39,
   "id": "e9bbaebd",
   "metadata": {
    "_cell_guid": "03873a01-7c80-4a3b-9a36-429b36d302a9",
    "_uuid": "239bd309-aadc-4e29-84a3-61bd5ecb8191",
    "collapsed": false,
    "execution": {
     "iopub.execute_input": "2024-05-16T13:17:57.632053Z",
     "iopub.status.busy": "2024-05-16T13:17:57.631633Z",
     "iopub.status.idle": "2024-05-16T13:17:57.649783Z",
     "shell.execute_reply": "2024-05-16T13:17:57.648741Z"
    },
    "jupyter": {
     "outputs_hidden": false
    },
    "papermill": {
     "duration": 1.456421,
     "end_time": "2024-05-16T13:17:57.651749",
     "exception": false,
     "start_time": "2024-05-16T13:17:56.195328",
     "status": "completed"
    },
    "tags": []
   },
   "outputs": [
    {
     "name": "stdout",
     "output_type": "stream",
     "text": [
      "(9366, 23) avec +50% pred sur les (15008, 22) ou 38.0% d'erreur\n"
     ]
    }
   ],
   "source": [
    "# List of columns to check\n",
    "columns_to_check =['trial_no_longer_needed', 'inadequate_study_design_or_study_redesign',\n",
    "       'efficacy', 'logistics', 'business_or_sponsor_reason',\n",
    "       'negligence_or_recommandation_of_legalities', 'organizational_issues',\n",
    "       'safety_ethics_aes', 'others', 'enrollment_related',\n",
    "       'pi_related', 'slow_accrual', 'funding_related', 'added_by_error',\n",
    "       'study_competition', 'covid-19_and_similar_epidemic_related',\n",
    "       'completed_early_or_truncated_completion']\n",
    "# Filter result_df to keep only the rows where at least one value in the specified columns is > 0.5\n",
    "filtered_df = result_df[(result_df[columns_to_check] >= 0.5).any(axis=1)]\n",
    "unclassified = result_df[(result_df[columns_to_check] < 0.5).any(axis=1)]\n",
    "\n",
    "# Add a new column \"unclassified\" and set the value to 0 for all rows\n",
    "filtered_df = filtered_df.assign(unclassified=0)\n",
    "unclassified = unclassified.assign(unclassified=1)\n",
    "\n",
    "result_df_len = len(result_df)\n",
    "filtered_df_len = len(filtered_df)\n",
    "\n",
    "# Calculate the result of the expression\n",
    "result = (result_df_len - filtered_df_len) / result_df_len\n",
    "\n",
    "\n",
    "\n",
    "\n",
    "\n",
    "# Print the filtered DataFrame\n",
    "print(f\"{filtered_df.shape} avec +50% pred sur les {result_df.shape} ou {round(result,2)*100}% d'erreur\")"
   ]
  },
  {
   "cell_type": "code",
   "execution_count": 40,
   "id": "fbf08c65",
   "metadata": {
    "_cell_guid": "98215fee-1e74-479f-90f8-daf7834e0a50",
    "_uuid": "4356eef5-27ec-42f7-88e7-f53cbf9c7d22",
    "collapsed": false,
    "execution": {
     "iopub.execute_input": "2024-05-16T13:18:00.528542Z",
     "iopub.status.busy": "2024-05-16T13:18:00.528185Z",
     "iopub.status.idle": "2024-05-16T13:18:09.092356Z",
     "shell.execute_reply": "2024-05-16T13:18:09.091330Z"
    },
    "jupyter": {
     "outputs_hidden": false
    },
    "papermill": {
     "duration": 9.982206,
     "end_time": "2024-05-16T13:18:09.094906",
     "exception": false,
     "start_time": "2024-05-16T13:17:59.112700",
     "status": "completed"
    },
    "tags": []
   },
   "outputs": [
    {
     "name": "stdout",
     "output_type": "stream",
     "text": [
      " unclassified: (5642, 24)    one cat rows :(8798, 24)    two cat : (564, 24)     three cat : (4, 24)  four cat : (4, 24)    more than 4: (0, 24)\n"
     ]
    }
   ],
   "source": [
    "import pandas as pd\n",
    "\n",
    "# Assuming your dataframe is named df\n",
    "\n",
    "# Step 1: Read your dataframe (replace 'your_data.csv' with your actual file name)\n",
    "df = result_df\n",
    "\n",
    "# Step 2: Update values based on the given condition\n",
    "columns_to_update = ['trial_no_longer_needed', 'inadequate_study_design_or_study_redesign',\n",
    "       'efficacy', 'logistics', 'business_or_sponsor_reason',\n",
    "       'negligence_or_recommandation_of_legalities', 'organizational_issues',\n",
    "       'safety_ethics_aes', 'others', 'enrollment_related',\n",
    "       'pi_related', 'slow_accrual', 'funding_related', 'added_by_error',\n",
    "       'study_competition', 'covid-19_and_similar_epidemic_related',\n",
    "       'completed_early_or_truncated_completion']\n",
    "\n",
    "# Create a mask for values greater than 0\n",
    "mask = df[columns_to_update] > 0\n",
    "\n",
    "# Calculate the sum of >0 values and count of >0 values\n",
    "sum_of_values = df[columns_to_update][mask].sum(axis=1)\n",
    "count_of_values = df[columns_to_update][mask].count(axis=1)\n",
    "# Calculate the average for each row\n",
    "average_values = sum_of_values / count_of_values\n",
    "\n",
    "# Create a new column for the calculated average\n",
    "df['average_column'] = average_values.round(3)\n",
    "\n",
    "\n",
    "for column in columns_to_update:\n",
    "    df[column] = df[column].apply(lambda x: 1 if x >= 0.5 else 0)\n",
    "\n",
    "# Step 3: Add the \"unclassified\" column and set its value\n",
    "df['unclassified'] = 0  # Initialize the column with 0\n",
    "\n",
    "# Iterate over each row to check if none of the specified columns have a value >= 0.5\n",
    "for index, row in df.iterrows():\n",
    "    if row[columns_to_update].sum() == 0:  # If none of the columns have a value >= 0.5\n",
    "        df.at[index, 'unclassified'] = 1  # Set the value of \"unclassified\" to 1\n",
    "\n",
    "# Step 4: Create filters to separate the rows\n",
    "# Rows with only no column (all columns < 0.5)\n",
    "no_column_filter = df[columns_to_update].sum(axis=1) == 0\n",
    "no_column_df = df[no_column_filter]\n",
    "\n",
    "# Rows with only one column = 1\n",
    "one_column_filter = df[columns_to_update].sum(axis=1) == 1\n",
    "one_column_df = df[one_column_filter]\n",
    "\n",
    "# Rows with two columns = 1\n",
    "two_column_filter = df[columns_to_update].sum(axis=1) == 2\n",
    "two_column_df = df[two_column_filter]\n",
    "\n",
    "# Rows with three columns = 1\n",
    "three_column_filter = df[columns_to_update].sum(axis=1) == 3\n",
    "three_column_df = df[three_column_filter]\n",
    "\n",
    "# Rows with three columns = 1\n",
    "four_column_filter = df[columns_to_update].sum(axis=1) == 4\n",
    "four_column_df = df[three_column_filter]\n",
    "\n",
    "# Rows with more than three columns = 1\n",
    "more_than_three_filter = df[columns_to_update].sum(axis=1) > 4\n",
    "more_than_three_df = df[more_than_three_filter]\n",
    "\n",
    "# Now you have separate dataframes based on the specified conditions\n",
    "\n",
    "print(f\" unclassified: {no_column_df.shape}    one cat rows :{one_column_df.shape}    two cat : {two_column_df.shape}     three cat : {three_column_df.shape}  four cat : {four_column_df.shape}    more than 4: {more_than_three_df.shape}\")"
   ]
  },
  {
   "cell_type": "code",
   "execution_count": 41,
   "id": "8e4d7292",
   "metadata": {
    "_cell_guid": "8e0dece1-9828-4a5e-97dd-1b2f949da081",
    "_uuid": "39028aa5-ec21-4d41-af9a-1b775b14ea0d",
    "collapsed": false,
    "execution": {
     "iopub.execute_input": "2024-05-16T13:18:12.086941Z",
     "iopub.status.busy": "2024-05-16T13:18:12.086534Z",
     "iopub.status.idle": "2024-05-16T13:18:12.099787Z",
     "shell.execute_reply": "2024-05-16T13:18:12.098942Z"
    },
    "jupyter": {
     "outputs_hidden": false
    },
    "papermill": {
     "duration": 1.504874,
     "end_time": "2024-05-16T13:18:12.101737",
     "exception": false,
     "start_time": "2024-05-16T13:18:10.596863",
     "status": "completed"
    },
    "tags": []
   },
   "outputs": [],
   "source": [
    "train['category'] = 1  # Initialize the column with 0\n",
    "train['unclassified'] = 0  # Initialize the column with 0\n",
    "train['average_column'] = 1\n",
    "df['category'] = None  # Initialize the column with 0\n",
    "df_final = pd.concat([train,df],ignore_index=True)"
   ]
  },
  {
   "cell_type": "code",
   "execution_count": 42,
   "id": "0d33c7cd",
   "metadata": {
    "_cell_guid": "23371474-bb0b-401a-b5b2-9699288dfda5",
    "_uuid": "f13e18ac-2237-49f0-9fdb-5a850016a625",
    "collapsed": false,
    "execution": {
     "iopub.execute_input": "2024-05-16T13:18:15.137076Z",
     "iopub.status.busy": "2024-05-16T13:18:15.136677Z",
     "iopub.status.idle": "2024-05-16T13:18:16.662686Z",
     "shell.execute_reply": "2024-05-16T13:18:16.661767Z"
    },
    "jupyter": {
     "outputs_hidden": false
    },
    "papermill": {
     "duration": 3.158681,
     "end_time": "2024-05-16T13:18:16.664857",
     "exception": false,
     "start_time": "2024-05-16T13:18:13.506176",
     "status": "completed"
    },
    "tags": []
   },
   "outputs": [
    {
     "data": {
      "image/png": "[encoded data removed]",
      "text/plain": [
       "<Figure size 1000x600 with 1 Axes>"
      ]
     },
     "metadata": {},
     "output_type": "display_data"
    },
    {
     "data": {
      "image/png": "[encoded data removed]",
      "text/plain": [
       "<Figure size 1000x600 with 1 Axes>"
      ]
     },
     "metadata": {},
     "output_type": "display_data"
    },
    {
     "data": {
      "image/png": "[encoded data removed]",
      "text/plain": [
       "<Figure size 1000x600 with 1 Axes>"
      ]
     },
     "metadata": {},
     "output_type": "display_data"
    }
   ],
   "source": [
    "plot_sum_values(df_final)\n",
    "plot_sum_values(data)\n",
    "plot_sum_values(result_df)"
   ]
  },
  {
   "cell_type": "code",
   "execution_count": 43,
   "id": "549263cd",
   "metadata": {
    "_cell_guid": "493180d0-9627-4943-897d-568fa79227c4",
    "_uuid": "9682baa3-0224-4990-9aae-44e861c20927",
    "collapsed": false,
    "execution": {
     "iopub.execute_input": "2024-05-16T13:18:19.603227Z",
     "iopub.status.busy": "2024-05-16T13:18:19.602835Z",
     "iopub.status.idle": "2024-05-16T13:18:19.637948Z",
     "shell.execute_reply": "2024-05-16T13:18:19.636952Z"
    },
    "jupyter": {
     "outputs_hidden": false
    },
    "papermill": {
     "duration": 1.473097,
     "end_time": "2024-05-16T13:18:19.640072",
     "exception": false,
     "start_time": "2024-05-16T13:18:18.166975",
     "status": "completed"
    },
    "tags": []
   },
   "outputs": [
    {
     "data": {
      "text/html": [
       "<div>\n",
       "<style scoped>\n",
       "    .dataframe tbody tr th:only-of-type {\n",
       "        vertical-align: middle;\n",
       "    }\n",
       "\n",
       "    .dataframe tbody tr th {\n",
       "        vertical-align: top;\n",
       "    }\n",
       "\n",
       "    .dataframe thead th {\n",
       "        text-align: right;\n",
       "    }\n",
       "</style>\n",
       "<table border=\"1\" class=\"dataframe\">\n",
       "  <thead>\n",
       "    <tr style=\"text-align: right;\">\n",
       "      <th></th>\n",
       "      <th>overallstatus</th>\n",
       "      <th>study_type</th>\n",
       "      <th>lemmatize_text</th>\n",
       "      <th>nct_id</th>\n",
       "      <th>raw_text</th>\n",
       "      <th>trial_no_longer_needed</th>\n",
       "      <th>inadequate_study_design_or_study_redesign</th>\n",
       "      <th>efficacy</th>\n",
       "      <th>logistics</th>\n",
       "      <th>business_or_sponsor_reason</th>\n",
       "      <th>...</th>\n",
       "      <th>pi_related</th>\n",
       "      <th>slow_accrual</th>\n",
       "      <th>funding_related</th>\n",
       "      <th>added_by_error</th>\n",
       "      <th>study_competition</th>\n",
       "      <th>covid-19_and_similar_epidemic_related</th>\n",
       "      <th>completed_early_or_truncated_completion</th>\n",
       "      <th>average_column</th>\n",
       "      <th>unclassified</th>\n",
       "      <th>category</th>\n",
       "    </tr>\n",
       "  </thead>\n",
       "  <tbody>\n",
       "    <tr>\n",
       "      <th>0</th>\n",
       "      <td>TERMINATED</td>\n",
       "      <td>OBSERVATIONAL</td>\n",
       "      <td>analysis identifiable specimen or data complet...</td>\n",
       "      <td>NCT00001978</td>\n",
       "      <td>All analysis with identifiable specimens/data ...</td>\n",
       "      <td>0</td>\n",
       "      <td>0</td>\n",
       "      <td>0</td>\n",
       "      <td>0</td>\n",
       "      <td>0</td>\n",
       "      <td>...</td>\n",
       "      <td>0</td>\n",
       "      <td>0</td>\n",
       "      <td>0</td>\n",
       "      <td>0</td>\n",
       "      <td>0</td>\n",
       "      <td>0</td>\n",
       "      <td>0</td>\n",
       "      <td>0.063</td>\n",
       "      <td>1</td>\n",
       "      <td>None</td>\n",
       "    </tr>\n",
       "    <tr>\n",
       "      <th>1</th>\n",
       "      <td>WITHDRAWN</td>\n",
       "      <td>INTERVENTIONAL</td>\n",
       "      <td>study halt prematurely prior enrollment first ...</td>\n",
       "      <td>NCT00003094</td>\n",
       "      <td>Study was halted prematurely, prior to enrollm...</td>\n",
       "      <td>0</td>\n",
       "      <td>0</td>\n",
       "      <td>0</td>\n",
       "      <td>0</td>\n",
       "      <td>0</td>\n",
       "      <td>...</td>\n",
       "      <td>0</td>\n",
       "      <td>0</td>\n",
       "      <td>0</td>\n",
       "      <td>0</td>\n",
       "      <td>0</td>\n",
       "      <td>0</td>\n",
       "      <td>0</td>\n",
       "      <td>0.067</td>\n",
       "      <td>0</td>\n",
       "      <td>None</td>\n",
       "    </tr>\n",
       "    <tr>\n",
       "      <th>2</th>\n",
       "      <td>TERMINATED</td>\n",
       "      <td>INTERVENTIONAL</td>\n",
       "      <td>study enrollment not meet expect goal</td>\n",
       "      <td>NCT00003194</td>\n",
       "      <td>Study enrollment did not meet expected goals</td>\n",
       "      <td>0</td>\n",
       "      <td>0</td>\n",
       "      <td>0</td>\n",
       "      <td>0</td>\n",
       "      <td>0</td>\n",
       "      <td>...</td>\n",
       "      <td>0</td>\n",
       "      <td>0</td>\n",
       "      <td>0</td>\n",
       "      <td>0</td>\n",
       "      <td>0</td>\n",
       "      <td>0</td>\n",
       "      <td>0</td>\n",
       "      <td>0.061</td>\n",
       "      <td>0</td>\n",
       "      <td>None</td>\n",
       "    </tr>\n",
       "    <tr>\n",
       "      <th>3</th>\n",
       "      <td>TERMINATED</td>\n",
       "      <td>INTERVENTIONAL</td>\n",
       "      <td>withdrawal due low enrollment</td>\n",
       "      <td>NCT00003508</td>\n",
       "      <td>Withdrawn due to slow enrollment</td>\n",
       "      <td>0</td>\n",
       "      <td>0</td>\n",
       "      <td>0</td>\n",
       "      <td>0</td>\n",
       "      <td>0</td>\n",
       "      <td>...</td>\n",
       "      <td>0</td>\n",
       "      <td>0</td>\n",
       "      <td>0</td>\n",
       "      <td>0</td>\n",
       "      <td>0</td>\n",
       "      <td>0</td>\n",
       "      <td>0</td>\n",
       "      <td>0.062</td>\n",
       "      <td>0</td>\n",
       "      <td>None</td>\n",
       "    </tr>\n",
       "    <tr>\n",
       "      <th>4</th>\n",
       "      <td>WITHDRAWN</td>\n",
       "      <td>INTERVENTIONAL</td>\n",
       "      <td>no patient enrollment</td>\n",
       "      <td>NCT00003512</td>\n",
       "      <td>No participants enrolled</td>\n",
       "      <td>0</td>\n",
       "      <td>0</td>\n",
       "      <td>0</td>\n",
       "      <td>0</td>\n",
       "      <td>0</td>\n",
       "      <td>...</td>\n",
       "      <td>0</td>\n",
       "      <td>0</td>\n",
       "      <td>0</td>\n",
       "      <td>0</td>\n",
       "      <td>0</td>\n",
       "      <td>0</td>\n",
       "      <td>0</td>\n",
       "      <td>0.067</td>\n",
       "      <td>0</td>\n",
       "      <td>None</td>\n",
       "    </tr>\n",
       "    <tr>\n",
       "      <th>...</th>\n",
       "      <td>...</td>\n",
       "      <td>...</td>\n",
       "      <td>...</td>\n",
       "      <td>...</td>\n",
       "      <td>...</td>\n",
       "      <td>...</td>\n",
       "      <td>...</td>\n",
       "      <td>...</td>\n",
       "      <td>...</td>\n",
       "      <td>...</td>\n",
       "      <td>...</td>\n",
       "      <td>...</td>\n",
       "      <td>...</td>\n",
       "      <td>...</td>\n",
       "      <td>...</td>\n",
       "      <td>...</td>\n",
       "      <td>...</td>\n",
       "      <td>...</td>\n",
       "      <td>...</td>\n",
       "      <td>...</td>\n",
       "      <td>...</td>\n",
       "    </tr>\n",
       "    <tr>\n",
       "      <th>15003</th>\n",
       "      <td>WITHDRAWN</td>\n",
       "      <td>INTERVENTIONAL</td>\n",
       "      <td>standard measure anaesthesia cystoscopy not un...</td>\n",
       "      <td>NCT06301308</td>\n",
       "      <td>The standard measures of anaesthesia in cystos...</td>\n",
       "      <td>0</td>\n",
       "      <td>0</td>\n",
       "      <td>0</td>\n",
       "      <td>0</td>\n",
       "      <td>0</td>\n",
       "      <td>...</td>\n",
       "      <td>0</td>\n",
       "      <td>0</td>\n",
       "      <td>0</td>\n",
       "      <td>0</td>\n",
       "      <td>0</td>\n",
       "      <td>0</td>\n",
       "      <td>0</td>\n",
       "      <td>0.072</td>\n",
       "      <td>0</td>\n",
       "      <td>None</td>\n",
       "    </tr>\n",
       "    <tr>\n",
       "      <th>15004</th>\n",
       "      <td>TERMINATED</td>\n",
       "      <td>OBSERVATIONAL</td>\n",
       "      <td>no patient enrollment criterion</td>\n",
       "      <td>NCT06341725</td>\n",
       "      <td>no patients with inclusion criteria</td>\n",
       "      <td>0</td>\n",
       "      <td>0</td>\n",
       "      <td>0</td>\n",
       "      <td>0</td>\n",
       "      <td>0</td>\n",
       "      <td>...</td>\n",
       "      <td>0</td>\n",
       "      <td>0</td>\n",
       "      <td>0</td>\n",
       "      <td>0</td>\n",
       "      <td>0</td>\n",
       "      <td>0</td>\n",
       "      <td>0</td>\n",
       "      <td>0.078</td>\n",
       "      <td>0</td>\n",
       "      <td>None</td>\n",
       "    </tr>\n",
       "    <tr>\n",
       "      <th>15005</th>\n",
       "      <td>TERMINATED</td>\n",
       "      <td>INTERVENTIONAL</td>\n",
       "      <td>resectable pancreatic adenocarcinoma neuroendo...</td>\n",
       "      <td>NCT06371716</td>\n",
       "      <td>resectable pancreatic adenocarcinoma and neuro...</td>\n",
       "      <td>0</td>\n",
       "      <td>0</td>\n",
       "      <td>0</td>\n",
       "      <td>0</td>\n",
       "      <td>0</td>\n",
       "      <td>...</td>\n",
       "      <td>0</td>\n",
       "      <td>0</td>\n",
       "      <td>0</td>\n",
       "      <td>0</td>\n",
       "      <td>0</td>\n",
       "      <td>0</td>\n",
       "      <td>0</td>\n",
       "      <td>0.063</td>\n",
       "      <td>1</td>\n",
       "      <td>None</td>\n",
       "    </tr>\n",
       "    <tr>\n",
       "      <th>15006</th>\n",
       "      <td>WITHDRAWN</td>\n",
       "      <td>OBSERVATIONAL</td>\n",
       "      <td>research already</td>\n",
       "      <td>NCT06374680</td>\n",
       "      <td>This is because the same research has already ...</td>\n",
       "      <td>0</td>\n",
       "      <td>0</td>\n",
       "      <td>0</td>\n",
       "      <td>0</td>\n",
       "      <td>0</td>\n",
       "      <td>...</td>\n",
       "      <td>0</td>\n",
       "      <td>0</td>\n",
       "      <td>0</td>\n",
       "      <td>0</td>\n",
       "      <td>0</td>\n",
       "      <td>0</td>\n",
       "      <td>0</td>\n",
       "      <td>0.060</td>\n",
       "      <td>0</td>\n",
       "      <td>None</td>\n",
       "    </tr>\n",
       "    <tr>\n",
       "      <th>15007</th>\n",
       "      <td>TERMINATED</td>\n",
       "      <td>INTERVENTIONAL</td>\n",
       "      <td>achieve number sample small plan thus mainly d...</td>\n",
       "      <td>NCT06377722</td>\n",
       "      <td>The achieved number of samples has been smalle...</td>\n",
       "      <td>0</td>\n",
       "      <td>0</td>\n",
       "      <td>0</td>\n",
       "      <td>0</td>\n",
       "      <td>0</td>\n",
       "      <td>...</td>\n",
       "      <td>0</td>\n",
       "      <td>0</td>\n",
       "      <td>0</td>\n",
       "      <td>0</td>\n",
       "      <td>0</td>\n",
       "      <td>0</td>\n",
       "      <td>0</td>\n",
       "      <td>0.059</td>\n",
       "      <td>1</td>\n",
       "      <td>None</td>\n",
       "    </tr>\n",
       "  </tbody>\n",
       "</table>\n",
       "<p>15008 rows × 25 columns</p>\n",
       "</div>"
      ],
      "text/plain": [
       "      overallstatus      study_type  \\\n",
       "0        TERMINATED   OBSERVATIONAL   \n",
       "1         WITHDRAWN  INTERVENTIONAL   \n",
       "2        TERMINATED  INTERVENTIONAL   \n",
       "3        TERMINATED  INTERVENTIONAL   \n",
       "4         WITHDRAWN  INTERVENTIONAL   \n",
       "...             ...             ...   \n",
       "15003     WITHDRAWN  INTERVENTIONAL   \n",
       "15004    TERMINATED   OBSERVATIONAL   \n",
       "15005    TERMINATED  INTERVENTIONAL   \n",
       "15006     WITHDRAWN   OBSERVATIONAL   \n",
       "15007    TERMINATED  INTERVENTIONAL   \n",
       "\n",
       "                                          lemmatize_text       nct_id  \\\n",
       "0      analysis identifiable specimen or data complet...  NCT00001978   \n",
       "1      study halt prematurely prior enrollment first ...  NCT00003094   \n",
       "2                  study enrollment not meet expect goal  NCT00003194   \n",
       "3                          withdrawal due low enrollment  NCT00003508   \n",
       "4                                  no patient enrollment  NCT00003512   \n",
       "...                                                  ...          ...   \n",
       "15003  standard measure anaesthesia cystoscopy not un...  NCT06301308   \n",
       "15004                    no patient enrollment criterion  NCT06341725   \n",
       "15005  resectable pancreatic adenocarcinoma neuroendo...  NCT06371716   \n",
       "15006                                   research already  NCT06374680   \n",
       "15007  achieve number sample small plan thus mainly d...  NCT06377722   \n",
       "\n",
       "                                                raw_text  \\\n",
       "0      All analysis with identifiable specimens/data ...   \n",
       "1      Study was halted prematurely, prior to enrollm...   \n",
       "2           Study enrollment did not meet expected goals   \n",
       "3                       Withdrawn due to slow enrollment   \n",
       "4                               No participants enrolled   \n",
       "...                                                  ...   \n",
       "15003  The standard measures of anaesthesia in cystos...   \n",
       "15004                no patients with inclusion criteria   \n",
       "15005  resectable pancreatic adenocarcinoma and neuro...   \n",
       "15006  This is because the same research has already ...   \n",
       "15007  The achieved number of samples has been smalle...   \n",
       "\n",
       "       trial_no_longer_needed  inadequate_study_design_or_study_redesign  \\\n",
       "0                           0                                          0   \n",
       "1                           0                                          0   \n",
       "2                           0                                          0   \n",
       "3                           0                                          0   \n",
       "4                           0                                          0   \n",
       "...                       ...                                        ...   \n",
       "15003                       0                                          0   \n",
       "15004                       0                                          0   \n",
       "15005                       0                                          0   \n",
       "15006                       0                                          0   \n",
       "15007                       0                                          0   \n",
       "\n",
       "       efficacy  logistics  business_or_sponsor_reason  ...  pi_related  \\\n",
       "0             0          0                           0  ...           0   \n",
       "1             0          0                           0  ...           0   \n",
       "2             0          0                           0  ...           0   \n",
       "3             0          0                           0  ...           0   \n",
       "4             0          0                           0  ...           0   \n",
       "...         ...        ...                         ...  ...         ...   \n",
       "15003         0          0                           0  ...           0   \n",
       "15004         0          0                           0  ...           0   \n",
       "15005         0          0                           0  ...           0   \n",
       "15006         0          0                           0  ...           0   \n",
       "15007         0          0                           0  ...           0   \n",
       "\n",
       "       slow_accrual  funding_related  added_by_error  study_competition  \\\n",
       "0                 0                0               0                  0   \n",
       "1                 0                0               0                  0   \n",
       "2                 0                0               0                  0   \n",
       "3                 0                0               0                  0   \n",
       "4                 0                0               0                  0   \n",
       "...             ...              ...             ...                ...   \n",
       "15003             0                0               0                  0   \n",
       "15004             0                0               0                  0   \n",
       "15005             0                0               0                  0   \n",
       "15006             0                0               0                  0   \n",
       "15007             0                0               0                  0   \n",
       "\n",
       "       covid-19_and_similar_epidemic_related  \\\n",
       "0                                          0   \n",
       "1                                          0   \n",
       "2                                          0   \n",
       "3                                          0   \n",
       "4                                          0   \n",
       "...                                      ...   \n",
       "15003                                      0   \n",
       "15004                                      0   \n",
       "15005                                      0   \n",
       "15006                                      0   \n",
       "15007                                      0   \n",
       "\n",
       "       completed_early_or_truncated_completion  average_column  unclassified  \\\n",
       "0                                            0           0.063             1   \n",
       "1                                            0           0.067             0   \n",
       "2                                            0           0.061             0   \n",
       "3                                            0           0.062             0   \n",
       "4                                            0           0.067             0   \n",
       "...                                        ...             ...           ...   \n",
       "15003                                        0           0.072             0   \n",
       "15004                                        0           0.078             0   \n",
       "15005                                        0           0.063             1   \n",
       "15006                                        0           0.060             0   \n",
       "15007                                        0           0.059             1   \n",
       "\n",
       "       category  \n",
       "0          None  \n",
       "1          None  \n",
       "2          None  \n",
       "3          None  \n",
       "4          None  \n",
       "...         ...  \n",
       "15003      None  \n",
       "15004      None  \n",
       "15005      None  \n",
       "15006      None  \n",
       "15007      None  \n",
       "\n",
       "[15008 rows x 25 columns]"
      ]
     },
     "execution_count": 43,
     "metadata": {},
     "output_type": "execute_result"
    }
   ],
   "source": [
    "df"
   ]
  },
  {
   "cell_type": "code",
   "execution_count": 44,
   "id": "190a878d",
   "metadata": {
    "_cell_guid": "a5dd6a2e-aa24-4b7e-8bf8-b13b8a140b58",
    "_uuid": "2d5d5275-a459-436d-851f-1f621d0d172f",
    "collapsed": false,
    "execution": {
     "iopub.execute_input": "2024-05-16T13:18:22.554339Z",
     "iopub.status.busy": "2024-05-16T13:18:22.553990Z",
     "iopub.status.idle": "2024-05-16T13:18:22.560011Z",
     "shell.execute_reply": "2024-05-16T13:18:22.559089Z"
    },
    "jupyter": {
     "outputs_hidden": false
    },
    "papermill": {
     "duration": 1.414738,
     "end_time": "2024-05-16T13:18:22.562130",
     "exception": false,
     "start_time": "2024-05-16T13:18:21.147392",
     "status": "completed"
    },
    "tags": []
   },
   "outputs": [
    {
     "data": {
      "text/plain": [
       "(9366, 23)"
      ]
     },
     "execution_count": 44,
     "metadata": {},
     "output_type": "execute_result"
    }
   ],
   "source": [
    "filtered_df.shape"
   ]
  },
  {
   "cell_type": "code",
   "execution_count": 45,
   "id": "ca8cdb59",
   "metadata": {
    "_cell_guid": "5f07d641-5ef7-4402-a6cf-7630bd2949da",
    "_uuid": "c84cb96f-fe5d-4ad0-abe9-df3ad8bb7c55",
    "collapsed": false,
    "execution": {
     "iopub.execute_input": "2024-05-16T13:18:25.548306Z",
     "iopub.status.busy": "2024-05-16T13:18:25.547600Z",
     "iopub.status.idle": "2024-05-16T13:18:25.950148Z",
     "shell.execute_reply": "2024-05-16T13:18:25.949282Z"
    },
    "jupyter": {
     "outputs_hidden": false
    },
    "papermill": {
     "duration": 1.892513,
     "end_time": "2024-05-16T13:18:25.952446",
     "exception": false,
     "start_time": "2024-05-16T13:18:24.059933",
     "status": "completed"
    },
    "tags": []
   },
   "outputs": [],
   "source": [
    "df_final.to_csv(\"newclassification_processed_whystop_results.csv\",index=False)"
   ]
  },
  {
   "cell_type": "code",
   "execution_count": 46,
   "id": "b990b1ff",
   "metadata": {
    "_cell_guid": "a802bb75-77b3-49f7-838f-3527d1c461a9",
    "_uuid": "1b575eb5-f5a0-42b0-9a0b-9a672106a5c4",
    "collapsed": false,
    "execution": {
     "iopub.execute_input": "2024-05-16T13:18:28.868143Z",
     "iopub.status.busy": "2024-05-16T13:18:28.867462Z",
     "iopub.status.idle": "2024-05-16T13:18:28.909409Z",
     "shell.execute_reply": "2024-05-16T13:18:28.908546Z"
    },
    "jupyter": {
     "outputs_hidden": false
    },
    "papermill": {
     "duration": 1.532146,
     "end_time": "2024-05-16T13:18:28.911375",
     "exception": false,
     "start_time": "2024-05-16T13:18:27.379229",
     "status": "completed"
    },
    "tags": []
   },
   "outputs": [
    {
     "data": {
      "text/html": [
       "<div>\n",
       "<style scoped>\n",
       "    .dataframe tbody tr th:only-of-type {\n",
       "        vertical-align: middle;\n",
       "    }\n",
       "\n",
       "    .dataframe tbody tr th {\n",
       "        vertical-align: top;\n",
       "    }\n",
       "\n",
       "    .dataframe thead th {\n",
       "        text-align: right;\n",
       "    }\n",
       "</style>\n",
       "<table border=\"1\" class=\"dataframe\">\n",
       "  <thead>\n",
       "    <tr style=\"text-align: right;\">\n",
       "      <th></th>\n",
       "      <th>overallstatus</th>\n",
       "      <th>study_type</th>\n",
       "      <th>lemmatize_text</th>\n",
       "      <th>nct_id</th>\n",
       "      <th>raw_text</th>\n",
       "      <th>trial_no_longer_needed</th>\n",
       "      <th>inadequate_study_design_or_study_redesign</th>\n",
       "      <th>efficacy</th>\n",
       "      <th>logistics</th>\n",
       "      <th>business_or_sponsor_reason</th>\n",
       "      <th>...</th>\n",
       "      <th>slow_accrual</th>\n",
       "      <th>funding_related</th>\n",
       "      <th>added_by_error</th>\n",
       "      <th>study_competition</th>\n",
       "      <th>covid-19_and_similar_epidemic_related</th>\n",
       "      <th>completed_early_or_truncated_completion</th>\n",
       "      <th>text</th>\n",
       "      <th>category</th>\n",
       "      <th>unclassified</th>\n",
       "      <th>average_column</th>\n",
       "    </tr>\n",
       "  </thead>\n",
       "  <tbody>\n",
       "    <tr>\n",
       "      <th>0</th>\n",
       "      <td>TERMINATED</td>\n",
       "      <td>OBSERVATIONAL</td>\n",
       "      <td>replace another study</td>\n",
       "      <td>NCT00000105</td>\n",
       "      <td>Replaced by another study.</td>\n",
       "      <td>0</td>\n",
       "      <td>0</td>\n",
       "      <td>0</td>\n",
       "      <td>0</td>\n",
       "      <td>0</td>\n",
       "      <td>...</td>\n",
       "      <td>0</td>\n",
       "      <td>0</td>\n",
       "      <td>0</td>\n",
       "      <td>1</td>\n",
       "      <td>0</td>\n",
       "      <td>0</td>\n",
       "      <td>replace another study</td>\n",
       "      <td>1</td>\n",
       "      <td>0</td>\n",
       "      <td>1.000</td>\n",
       "    </tr>\n",
       "    <tr>\n",
       "      <th>1</th>\n",
       "      <td>WITHDRAWN</td>\n",
       "      <td>INTERVENTIONAL</td>\n",
       "      <td>study never open never enrollment patient</td>\n",
       "      <td>NCT00000270</td>\n",
       "      <td>Study never opened; never enrolled participants</td>\n",
       "      <td>0</td>\n",
       "      <td>0</td>\n",
       "      <td>0</td>\n",
       "      <td>0</td>\n",
       "      <td>0</td>\n",
       "      <td>...</td>\n",
       "      <td>0</td>\n",
       "      <td>0</td>\n",
       "      <td>0</td>\n",
       "      <td>0</td>\n",
       "      <td>0</td>\n",
       "      <td>0</td>\n",
       "      <td>study never open never enrollment patient</td>\n",
       "      <td>1</td>\n",
       "      <td>0</td>\n",
       "      <td>1.000</td>\n",
       "    </tr>\n",
       "    <tr>\n",
       "      <th>2</th>\n",
       "      <td>TERMINATED</td>\n",
       "      <td>INTERVENTIONAL</td>\n",
       "      <td>original investigator leave institution</td>\n",
       "      <td>NCT00000305</td>\n",
       "      <td>Original P.I. left the institution</td>\n",
       "      <td>0</td>\n",
       "      <td>0</td>\n",
       "      <td>0</td>\n",
       "      <td>0</td>\n",
       "      <td>0</td>\n",
       "      <td>...</td>\n",
       "      <td>0</td>\n",
       "      <td>0</td>\n",
       "      <td>0</td>\n",
       "      <td>0</td>\n",
       "      <td>0</td>\n",
       "      <td>0</td>\n",
       "      <td>original investigator leave institution</td>\n",
       "      <td>1</td>\n",
       "      <td>0</td>\n",
       "      <td>1.000</td>\n",
       "    </tr>\n",
       "    <tr>\n",
       "      <th>3</th>\n",
       "      <td>TERMINATED</td>\n",
       "      <td>INTERVENTIONAL</td>\n",
       "      <td>unable enrollment adequate number patient</td>\n",
       "      <td>NCT00000309</td>\n",
       "      <td>Unable to recruit adequate number of subjects</td>\n",
       "      <td>0</td>\n",
       "      <td>0</td>\n",
       "      <td>0</td>\n",
       "      <td>0</td>\n",
       "      <td>0</td>\n",
       "      <td>...</td>\n",
       "      <td>0</td>\n",
       "      <td>0</td>\n",
       "      <td>0</td>\n",
       "      <td>0</td>\n",
       "      <td>0</td>\n",
       "      <td>0</td>\n",
       "      <td>unable enrollment adequate number patient</td>\n",
       "      <td>1</td>\n",
       "      <td>0</td>\n",
       "      <td>1.000</td>\n",
       "    </tr>\n",
       "    <tr>\n",
       "      <th>4</th>\n",
       "      <td>WITHDRAWN</td>\n",
       "      <td>INTERVENTIONAL</td>\n",
       "      <td>study never funded</td>\n",
       "      <td>NCT00000340</td>\n",
       "      <td>Study was never funded.</td>\n",
       "      <td>0</td>\n",
       "      <td>0</td>\n",
       "      <td>0</td>\n",
       "      <td>0</td>\n",
       "      <td>0</td>\n",
       "      <td>...</td>\n",
       "      <td>0</td>\n",
       "      <td>1</td>\n",
       "      <td>0</td>\n",
       "      <td>0</td>\n",
       "      <td>0</td>\n",
       "      <td>0</td>\n",
       "      <td>study never funded</td>\n",
       "      <td>1</td>\n",
       "      <td>0</td>\n",
       "      <td>1.000</td>\n",
       "    </tr>\n",
       "    <tr>\n",
       "      <th>...</th>\n",
       "      <td>...</td>\n",
       "      <td>...</td>\n",
       "      <td>...</td>\n",
       "      <td>...</td>\n",
       "      <td>...</td>\n",
       "      <td>...</td>\n",
       "      <td>...</td>\n",
       "      <td>...</td>\n",
       "      <td>...</td>\n",
       "      <td>...</td>\n",
       "      <td>...</td>\n",
       "      <td>...</td>\n",
       "      <td>...</td>\n",
       "      <td>...</td>\n",
       "      <td>...</td>\n",
       "      <td>...</td>\n",
       "      <td>...</td>\n",
       "      <td>...</td>\n",
       "      <td>...</td>\n",
       "      <td>...</td>\n",
       "      <td>...</td>\n",
       "    </tr>\n",
       "    <tr>\n",
       "      <th>24280</th>\n",
       "      <td>WITHDRAWN</td>\n",
       "      <td>INTERVENTIONAL</td>\n",
       "      <td>standard measure anaesthesia cystoscopy not un...</td>\n",
       "      <td>NCT06301308</td>\n",
       "      <td>The standard measures of anaesthesia in cystos...</td>\n",
       "      <td>0</td>\n",
       "      <td>0</td>\n",
       "      <td>0</td>\n",
       "      <td>0</td>\n",
       "      <td>0</td>\n",
       "      <td>...</td>\n",
       "      <td>0</td>\n",
       "      <td>0</td>\n",
       "      <td>0</td>\n",
       "      <td>0</td>\n",
       "      <td>0</td>\n",
       "      <td>0</td>\n",
       "      <td>NaN</td>\n",
       "      <td>None</td>\n",
       "      <td>0</td>\n",
       "      <td>0.072</td>\n",
       "    </tr>\n",
       "    <tr>\n",
       "      <th>24281</th>\n",
       "      <td>TERMINATED</td>\n",
       "      <td>OBSERVATIONAL</td>\n",
       "      <td>no patient enrollment criterion</td>\n",
       "      <td>NCT06341725</td>\n",
       "      <td>no patients with inclusion criteria</td>\n",
       "      <td>0</td>\n",
       "      <td>0</td>\n",
       "      <td>0</td>\n",
       "      <td>0</td>\n",
       "      <td>0</td>\n",
       "      <td>...</td>\n",
       "      <td>0</td>\n",
       "      <td>0</td>\n",
       "      <td>0</td>\n",
       "      <td>0</td>\n",
       "      <td>0</td>\n",
       "      <td>0</td>\n",
       "      <td>NaN</td>\n",
       "      <td>None</td>\n",
       "      <td>0</td>\n",
       "      <td>0.078</td>\n",
       "    </tr>\n",
       "    <tr>\n",
       "      <th>24282</th>\n",
       "      <td>TERMINATED</td>\n",
       "      <td>INTERVENTIONAL</td>\n",
       "      <td>resectable pancreatic adenocarcinoma neuroendo...</td>\n",
       "      <td>NCT06371716</td>\n",
       "      <td>resectable pancreatic adenocarcinoma and neuro...</td>\n",
       "      <td>0</td>\n",
       "      <td>0</td>\n",
       "      <td>0</td>\n",
       "      <td>0</td>\n",
       "      <td>0</td>\n",
       "      <td>...</td>\n",
       "      <td>0</td>\n",
       "      <td>0</td>\n",
       "      <td>0</td>\n",
       "      <td>0</td>\n",
       "      <td>0</td>\n",
       "      <td>0</td>\n",
       "      <td>NaN</td>\n",
       "      <td>None</td>\n",
       "      <td>1</td>\n",
       "      <td>0.063</td>\n",
       "    </tr>\n",
       "    <tr>\n",
       "      <th>24283</th>\n",
       "      <td>WITHDRAWN</td>\n",
       "      <td>OBSERVATIONAL</td>\n",
       "      <td>research already</td>\n",
       "      <td>NCT06374680</td>\n",
       "      <td>This is because the same research has already ...</td>\n",
       "      <td>0</td>\n",
       "      <td>0</td>\n",
       "      <td>0</td>\n",
       "      <td>0</td>\n",
       "      <td>0</td>\n",
       "      <td>...</td>\n",
       "      <td>0</td>\n",
       "      <td>0</td>\n",
       "      <td>0</td>\n",
       "      <td>0</td>\n",
       "      <td>0</td>\n",
       "      <td>0</td>\n",
       "      <td>NaN</td>\n",
       "      <td>None</td>\n",
       "      <td>0</td>\n",
       "      <td>0.060</td>\n",
       "    </tr>\n",
       "    <tr>\n",
       "      <th>24284</th>\n",
       "      <td>TERMINATED</td>\n",
       "      <td>INTERVENTIONAL</td>\n",
       "      <td>achieve number sample small plan thus mainly d...</td>\n",
       "      <td>NCT06377722</td>\n",
       "      <td>The achieved number of samples has been smalle...</td>\n",
       "      <td>0</td>\n",
       "      <td>0</td>\n",
       "      <td>0</td>\n",
       "      <td>0</td>\n",
       "      <td>0</td>\n",
       "      <td>...</td>\n",
       "      <td>0</td>\n",
       "      <td>0</td>\n",
       "      <td>0</td>\n",
       "      <td>0</td>\n",
       "      <td>0</td>\n",
       "      <td>0</td>\n",
       "      <td>NaN</td>\n",
       "      <td>None</td>\n",
       "      <td>1</td>\n",
       "      <td>0.059</td>\n",
       "    </tr>\n",
       "  </tbody>\n",
       "</table>\n",
       "<p>24285 rows × 26 columns</p>\n",
       "</div>"
      ],
      "text/plain": [
       "      overallstatus      study_type  \\\n",
       "0        TERMINATED   OBSERVATIONAL   \n",
       "1         WITHDRAWN  INTERVENTIONAL   \n",
       "2        TERMINATED  INTERVENTIONAL   \n",
       "3        TERMINATED  INTERVENTIONAL   \n",
       "4         WITHDRAWN  INTERVENTIONAL   \n",
       "...             ...             ...   \n",
       "24280     WITHDRAWN  INTERVENTIONAL   \n",
       "24281    TERMINATED   OBSERVATIONAL   \n",
       "24282    TERMINATED  INTERVENTIONAL   \n",
       "24283     WITHDRAWN   OBSERVATIONAL   \n",
       "24284    TERMINATED  INTERVENTIONAL   \n",
       "\n",
       "                                          lemmatize_text       nct_id  \\\n",
       "0                                  replace another study  NCT00000105   \n",
       "1              study never open never enrollment patient  NCT00000270   \n",
       "2                original investigator leave institution  NCT00000305   \n",
       "3              unable enrollment adequate number patient  NCT00000309   \n",
       "4                                     study never funded  NCT00000340   \n",
       "...                                                  ...          ...   \n",
       "24280  standard measure anaesthesia cystoscopy not un...  NCT06301308   \n",
       "24281                    no patient enrollment criterion  NCT06341725   \n",
       "24282  resectable pancreatic adenocarcinoma neuroendo...  NCT06371716   \n",
       "24283                                   research already  NCT06374680   \n",
       "24284  achieve number sample small plan thus mainly d...  NCT06377722   \n",
       "\n",
       "                                                raw_text  \\\n",
       "0                             Replaced by another study.   \n",
       "1        Study never opened; never enrolled participants   \n",
       "2                     Original P.I. left the institution   \n",
       "3          Unable to recruit adequate number of subjects   \n",
       "4                                Study was never funded.   \n",
       "...                                                  ...   \n",
       "24280  The standard measures of anaesthesia in cystos...   \n",
       "24281                no patients with inclusion criteria   \n",
       "24282  resectable pancreatic adenocarcinoma and neuro...   \n",
       "24283  This is because the same research has already ...   \n",
       "24284  The achieved number of samples has been smalle...   \n",
       "\n",
       "       trial_no_longer_needed  inadequate_study_design_or_study_redesign  \\\n",
       "0                           0                                          0   \n",
       "1                           0                                          0   \n",
       "2                           0                                          0   \n",
       "3                           0                                          0   \n",
       "4                           0                                          0   \n",
       "...                       ...                                        ...   \n",
       "24280                       0                                          0   \n",
       "24281                       0                                          0   \n",
       "24282                       0                                          0   \n",
       "24283                       0                                          0   \n",
       "24284                       0                                          0   \n",
       "\n",
       "       efficacy  logistics  business_or_sponsor_reason  ...  slow_accrual  \\\n",
       "0             0          0                           0  ...             0   \n",
       "1             0          0                           0  ...             0   \n",
       "2             0          0                           0  ...             0   \n",
       "3             0          0                           0  ...             0   \n",
       "4             0          0                           0  ...             0   \n",
       "...         ...        ...                         ...  ...           ...   \n",
       "24280         0          0                           0  ...             0   \n",
       "24281         0          0                           0  ...             0   \n",
       "24282         0          0                           0  ...             0   \n",
       "24283         0          0                           0  ...             0   \n",
       "24284         0          0                           0  ...             0   \n",
       "\n",
       "       funding_related  added_by_error  study_competition  \\\n",
       "0                    0               0                  1   \n",
       "1                    0               0                  0   \n",
       "2                    0               0                  0   \n",
       "3                    0               0                  0   \n",
       "4                    1               0                  0   \n",
       "...                ...             ...                ...   \n",
       "24280                0               0                  0   \n",
       "24281                0               0                  0   \n",
       "24282                0               0                  0   \n",
       "24283                0               0                  0   \n",
       "24284                0               0                  0   \n",
       "\n",
       "       covid-19_and_similar_epidemic_related  \\\n",
       "0                                          0   \n",
       "1                                          0   \n",
       "2                                          0   \n",
       "3                                          0   \n",
       "4                                          0   \n",
       "...                                      ...   \n",
       "24280                                      0   \n",
       "24281                                      0   \n",
       "24282                                      0   \n",
       "24283                                      0   \n",
       "24284                                      0   \n",
       "\n",
       "       completed_early_or_truncated_completion  \\\n",
       "0                                            0   \n",
       "1                                            0   \n",
       "2                                            0   \n",
       "3                                            0   \n",
       "4                                            0   \n",
       "...                                        ...   \n",
       "24280                                        0   \n",
       "24281                                        0   \n",
       "24282                                        0   \n",
       "24283                                        0   \n",
       "24284                                        0   \n",
       "\n",
       "                                            text  category  unclassified  \\\n",
       "0                          replace another study         1             0   \n",
       "1      study never open never enrollment patient         1             0   \n",
       "2        original investigator leave institution         1             0   \n",
       "3      unable enrollment adequate number patient         1             0   \n",
       "4                             study never funded         1             0   \n",
       "...                                          ...       ...           ...   \n",
       "24280                                        NaN      None             0   \n",
       "24281                                        NaN      None             0   \n",
       "24282                                        NaN      None             1   \n",
       "24283                                        NaN      None             0   \n",
       "24284                                        NaN      None             1   \n",
       "\n",
       "       average_column  \n",
       "0               1.000  \n",
       "1               1.000  \n",
       "2               1.000  \n",
       "3               1.000  \n",
       "4               1.000  \n",
       "...               ...  \n",
       "24280           0.072  \n",
       "24281           0.078  \n",
       "24282           0.063  \n",
       "24283           0.060  \n",
       "24284           0.059  \n",
       "\n",
       "[24285 rows x 26 columns]"
      ]
     },
     "execution_count": 46,
     "metadata": {},
     "output_type": "execute_result"
    }
   ],
   "source": [
    "df_final"
   ]
  }
 ],
 "metadata": {
  "kaggle": {
   "accelerator": "nvidiaTeslaT4",
   "dataSources": [
    {
     "datasetId": 1835,
     "sourceId": 3176,
     "sourceType": "datasetVersion"
    },
    {
     "datasetId": 4924779,
     "sourceId": 8290445,
     "sourceType": "datasetVersion"
    },
    {
     "datasetId": 4972724,
     "sourceId": 8365797,
     "sourceType": "datasetVersion"
    },
    {
     "datasetId": 4974411,
     "sourceId": 8368037,
     "sourceType": "datasetVersion"
    },
    {
     "datasetId": 4975143,
     "sourceId": 8369004,
     "sourceType": "datasetVersion"
    },
    {
     "datasetId": 4981620,
     "sourceId": 8377752,
     "sourceType": "datasetVersion"
    },
    {
     "datasetId": 5016547,
     "sourceId": 8425066,
     "sourceType": "datasetVersion"
    },
    {
     "datasetId": 5020032,
     "sourceId": 8429833,
     "sourceType": "datasetVersion"
    },
    {
     "datasetId": 5020549,
     "sourceId": 8430512,
     "sourceType": "datasetVersion"
    }
   ],
   "dockerImageVersionId": 30699,
   "isGpuEnabled": true,
   "isInternetEnabled": true,
   "language": "python",
   "sourceType": "notebook"
  },
  "kernelspec": {
   "display_name": "Python 3",
   "language": "python",
   "name": "python3"
  },
  "language_info": {
   "codemirror_mode": {
    "name": "ipython",
    "version": 3
   },
   "file_extension": ".py",
   "mimetype": "text/x-python",
   "name": "python",
   "nbconvert_exporter": "python",
   "pygments_lexer": "ipython3",
   "version": "3.10.13"
  },
  "papermill": {
   "default_parameters": {},
   "duration": 2476.533223,
   "end_time": "2024-05-16T13:18:33.400993",
   "environment_variables": {},
   "exception": null,
   "input_path": "__notebook__.ipynb",
   "output_path": "__notebook__.ipynb",
   "parameters": {},
   "start_time": "2024-05-16T12:37:16.867770",
   "version": "2.5.0"
  }
 },
 "nbformat": 4,
 "nbformat_minor": 5
}
